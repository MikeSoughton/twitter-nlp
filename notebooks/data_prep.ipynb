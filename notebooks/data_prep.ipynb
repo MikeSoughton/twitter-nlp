{
 "cells": [
  {
   "cell_type": "markdown",
   "id": "232e9370",
   "metadata": {},
   "source": [
    "# Dataset preparation notebook"
   ]
  },
  {
   "cell_type": "markdown",
   "id": "40016bf3",
   "metadata": {},
   "source": [
    "## Load data\n",
    "\n"
   ]
  },
  {
   "cell_type": "code",
   "execution_count": 2,
   "id": "1525f3c0",
   "metadata": {},
   "outputs": [],
   "source": [
    "import pandas as pd\n",
    "import numpy as np"
   ]
  },
  {
   "cell_type": "code",
   "execution_count": 3,
   "id": "98e03b04",
   "metadata": {},
   "outputs": [
    {
     "name": "stderr",
     "output_type": "stream",
     "text": [
      "/var/folders/hx/0dxb0wn51wx5pscstjkwf2gc000qqf/T/ipykernel_33025/1119663756.py:5: FutureWarning: Passing a negative integer is deprecated in version 1.0 and will not be supported in future version. Instead, use None to not limit the column width.\n",
      "  pd.set_option('display.max_colwidth', -1)\n"
     ]
    }
   ],
   "source": [
    "# Just pandas display options\n",
    "pd.set_option('display.max_rows', None)\n",
    "pd.set_option('display.max_columns', None)\n",
    "pd.set_option('display.width', None)\n",
    "pd.set_option('display.max_colwidth', -1)"
   ]
  },
  {
   "cell_type": "code",
   "execution_count": 24,
   "id": "a11e5271",
   "metadata": {},
   "outputs": [],
   "source": [
    "tweets_df = pd.read_csv('../data/analysed_tweets/ukraine_russia/tweets_raw_en_df_individual_5000dailytweets_2022-02-10_to_2022-03-10_sentimentLDA.csv')"
   ]
  },
  {
   "cell_type": "code",
   "execution_count": 25,
   "id": "265d3440",
   "metadata": {},
   "outputs": [
    {
     "data": {
      "text/plain": [
       "(112274, 25)"
      ]
     },
     "execution_count": 25,
     "metadata": {},
     "output_type": "execute_result"
    }
   ],
   "source": [
    "tweets_df.head(100)\n",
    "tweets_df.shape"
   ]
  },
  {
   "cell_type": "markdown",
   "id": "6b406c78",
   "metadata": {},
   "source": [
    "## Filter out any organisations that are in our list \n",
    "\n",
    "This we have done to the dataset before but the list may have been expanded so might as well do it again>"
   ]
  },
  {
   "cell_type": "code",
   "execution_count": 26,
   "id": "7e1d2e82",
   "metadata": {},
   "outputs": [],
   "source": [
    "organisations_file_path = \"../data/organisations.csv\"\n",
    "organisations_list = list(np.genfromtxt(organisations_file_path, delimiter=',', dtype=str, encoding='utf-8'))\n",
    "\n",
    "# Drop any NaN rows first\n",
    "tweets_df = tweets_df.dropna(subset=['Display Name'], how='all')        \n",
    "tweets_df.reset_index(drop=True, inplace=True)\n",
    "    \n",
    "for organisation_name in organisations_list:\n",
    "    tweets_df = tweets_df.drop(tweets_df[tweets_df['Display Name'].str.lower().str.contains(str.lower(organisation_name))].index)\n",
    "\n",
    "\n",
    "tweets_df = tweets_df.reset_index(drop=True)"
   ]
  },
  {
   "cell_type": "code",
   "execution_count": 27,
   "id": "949a7e74",
   "metadata": {},
   "outputs": [
    {
     "data": {
      "text/plain": [
       "(111244, 25)"
      ]
     },
     "execution_count": 27,
     "metadata": {},
     "output_type": "execute_result"
    }
   ],
   "source": [
    "tweets_df.shape"
   ]
  },
  {
   "cell_type": "markdown",
   "id": "b9d945c6",
   "metadata": {},
   "source": [
    "## Filter out any accounts which do not include human names\n",
    "\n",
    "This is a stricter filter that will filter out any accounts whose name is not within a list of human names in the latin alphabet. The ames file includes names from many cultures, but it may have been better just to use English ones to avoid cases like 'You' being included and so not filtering out things like 'youtube'."
   ]
  },
  {
   "cell_type": "code",
   "execution_count": 28,
   "id": "edf7b703",
   "metadata": {},
   "outputs": [],
   "source": [
    "names_path = '../data/human_names_dict.txt'\n",
    "with open(names_path, encoding=\"utf8\", errors='ignore') as f:\n",
    "    lines = f.readlines()\n",
    "\n",
    "# Names file - I found this one, which includes names from many cultures\n",
    "# But it may have been better just to use English ones to avoid cases like 'You' being included\n",
    "# and so not filtering out things like 'youtube'\n",
    "names_list = []\n",
    "import string\n",
    "for idx, line in enumerate(lines[362:]): # This file is so weirdly laid out, really!\n",
    "    name = line[3:].split(' ')[0]\n",
    "    char_set = string.ascii_letters\n",
    "    if all((True if x in char_set else False for x in name)) is True:\n",
    "        names_list.append(name)\n",
    "\n",
    "# Filters out all names not in the name list\n",
    "# Fun aside - if you try to do this in a loop, it takes FOREVER\n",
    "name_mask = tweets_df['Display Name'].str.lower().str.split(' ').str[0].isin([x.lower() for x in names_list])\n",
    "tweets_df = tweets_df[name_mask]\n",
    "\n",
    "tweets_df = tweets_df.reset_index(drop=True)"
   ]
  },
  {
   "cell_type": "code",
   "execution_count": 29,
   "id": "961e4dd1",
   "metadata": {},
   "outputs": [
    {
     "data": {
      "text/plain": [
       "(53474, 25)"
      ]
     },
     "execution_count": 29,
     "metadata": {},
     "output_type": "execute_result"
    }
   ],
   "source": [
    "tweets_df.shape"
   ]
  },
  {
   "cell_type": "code",
   "execution_count": 30,
   "id": "a1917a65",
   "metadata": {},
   "outputs": [],
   "source": [
    "tweets_df.to_csv('../data/analysed_tweets/ukraine_russia/tweets_raw_en_df_individual_latin_5000dailytweets_2022-02-10_to_2022-03-10_sentimentLDA_save.csv')"
   ]
  },
  {
   "cell_type": "code",
   "execution_count": null,
   "id": "d6b4a2d8",
   "metadata": {},
   "outputs": [],
   "source": []
  }
 ],
 "metadata": {
  "kernelspec": {
   "display_name": "twitter-nlp-py3.8",
   "language": "python",
   "name": "twitter-nlp-py3.8"
  },
  "language_info": {
   "codemirror_mode": {
    "name": "ipython",
    "version": 3
   },
   "file_extension": ".py",
   "mimetype": "text/x-python",
   "name": "python",
   "nbconvert_exporter": "python",
   "pygments_lexer": "ipython3",
   "version": "3.8.5"
  }
 },
 "nbformat": 4,
 "nbformat_minor": 5
}
