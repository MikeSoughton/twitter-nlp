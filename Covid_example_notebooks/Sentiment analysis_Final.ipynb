{
  "cells": [
    {
      "cell_type": "code",
      "execution_count": 1,
      "metadata": {
        "id": "CYxKN8snJ5LQ",
        "outputId": "0f4e2a5d-e550-4faa-a83c-622f8c3a7315",
        "colab": {
          "base_uri": "https://localhost:8080/"
        }
      },
      "outputs": [
        {
          "output_type": "stream",
          "name": "stdout",
          "text": [
            "Requirement already satisfied: plotly in /usr/local/lib/python3.7/dist-packages (5.5.0)\n",
            "Requirement already satisfied: tenacity>=6.2.0 in /usr/local/lib/python3.7/dist-packages (from plotly) (8.0.1)\n",
            "Requirement already satisfied: six in /usr/local/lib/python3.7/dist-packages (from plotly) (1.15.0)\n"
          ]
        }
      ],
      "source": [
        "!pip install plotly"
      ]
    },
    {
      "cell_type": "code",
      "execution_count": null,
      "metadata": {
        "id": "d9k-cMfFJ5LT",
        "outputId": "7acf5313-a7e9-47f9-e1c7-2f6f782c8cf9"
      },
      "outputs": [
        {
          "name": "stderr",
          "output_type": "stream",
          "text": [
            "[nltk_data] Downloading package vader_lexicon to\n",
            "[nltk_data]     /Users/ms731/nltk_data...\n",
            "[nltk_data]   Package vader_lexicon is already up-to-date!\n"
          ]
        }
      ],
      "source": [
        "import numpy as np # linear algebra\n",
        "import pandas as pd # data processing, CSV file I/O (e.g. pd.read_csv)\n",
        "import re\n",
        "import string\n",
        "import nltk\n",
        "import matplotlib.pyplot as plt\n",
        "import seaborn as sns\n",
        "sns.set_style('darkgrid')\n",
        "\n",
        "nltk.download('vader_lexicon')\n",
        "from nltk.sentiment.vader import SentimentIntensityAnalyzer as SIA\n",
        "from wordcloud import WordCloud,STOPWORDS\n",
        "\n",
        "plt.rc('figure',figsize=(17,13))\n",
        "import plotly.express as px\n",
        "import plotly.graph_objs as go\n",
        "import plotly.offline as pyo\n",
        "from plotly.subplots import make_subplots\n"
      ]
    },
    {
      "cell_type": "code",
      "execution_count": null,
      "metadata": {
        "id": "10iJRv5cJ5LV",
        "outputId": "ef4939bd-1d54-4bdc-c6ea-d3616edc334b"
      },
      "outputs": [
        {
          "name": "stdout",
          "output_type": "stream",
          "text": [
            "Collecting vaderSentiment\n",
            "  Downloading vaderSentiment-3.3.2-py2.py3-none-any.whl (125 kB)\n",
            "\u001b[K     |████████████████████████████████| 125 kB 755 kB/s eta 0:00:01\n",
            "\u001b[?25hCollecting requests\n",
            "  Downloading requests-2.27.1-py2.py3-none-any.whl (63 kB)\n",
            "\u001b[K     |████████████████████████████████| 63 kB 864 kB/s eta 0:00:01\n",
            "\u001b[?25hCollecting urllib3<1.27,>=1.21.1\n",
            "  Downloading urllib3-1.26.8-py2.py3-none-any.whl (138 kB)\n",
            "\u001b[K     |████████████████████████████████| 138 kB 800 kB/s eta 0:00:01\n",
            "\u001b[?25hRequirement already satisfied: certifi>=2017.4.17 in /Users/ms731/opt/anaconda3/envs/twitter-covid-test/lib/python3.10/site-packages (from requests->vaderSentiment) (2021.10.8)\n",
            "Collecting idna<4,>=2.5\n",
            "  Downloading idna-3.3-py3-none-any.whl (61 kB)\n",
            "\u001b[K     |████████████████████████████████| 61 kB 782 kB/s eta 0:00:01\n",
            "\u001b[?25hCollecting charset-normalizer~=2.0.0\n",
            "  Downloading charset_normalizer-2.0.12-py3-none-any.whl (39 kB)\n",
            "Installing collected packages: urllib3, idna, charset-normalizer, requests, vaderSentiment\n",
            "Successfully installed charset-normalizer-2.0.12 idna-3.3 requests-2.27.1 urllib3-1.26.8 vaderSentiment-3.3.2\n",
            "Note: you may need to restart the kernel to use updated packages.\n"
          ]
        }
      ],
      "source": [
        "pip install vaderSentiment"
      ]
    },
    {
      "cell_type": "code",
      "execution_count": null,
      "metadata": {
        "id": "ta_xC_wXJ5LW",
        "outputId": "e2a9e85a-3054-4b93-f875-171223be7a2d"
      },
      "outputs": [
        {
          "name": "stdout",
          "output_type": "stream",
          "text": [
            "Collecting twython\n",
            "  Downloading twython-3.9.1-py3-none-any.whl (33 kB)\n",
            "Requirement already satisfied: requests>=2.1.0 in /Users/ms731/opt/anaconda3/envs/twitter-covid-test/lib/python3.10/site-packages (from twython) (2.27.1)\n",
            "Collecting requests-oauthlib>=0.4.0\n",
            "  Downloading requests_oauthlib-1.3.1-py2.py3-none-any.whl (23 kB)\n",
            "Requirement already satisfied: idna<4,>=2.5 in /Users/ms731/opt/anaconda3/envs/twitter-covid-test/lib/python3.10/site-packages (from requests>=2.1.0->twython) (3.3)\n",
            "Requirement already satisfied: charset-normalizer~=2.0.0 in /Users/ms731/opt/anaconda3/envs/twitter-covid-test/lib/python3.10/site-packages (from requests>=2.1.0->twython) (2.0.12)\n",
            "Requirement already satisfied: certifi>=2017.4.17 in /Users/ms731/opt/anaconda3/envs/twitter-covid-test/lib/python3.10/site-packages (from requests>=2.1.0->twython) (2021.10.8)\n",
            "Requirement already satisfied: urllib3<1.27,>=1.21.1 in /Users/ms731/opt/anaconda3/envs/twitter-covid-test/lib/python3.10/site-packages (from requests>=2.1.0->twython) (1.26.8)\n",
            "Collecting oauthlib>=3.0.0\n",
            "  Downloading oauthlib-3.2.0-py3-none-any.whl (151 kB)\n",
            "\u001b[K     |████████████████████████████████| 151 kB 750 kB/s eta 0:00:01\n",
            "\u001b[?25hInstalling collected packages: oauthlib, requests-oauthlib, twython\n",
            "Successfully installed oauthlib-3.2.0 requests-oauthlib-1.3.1 twython-3.9.1\n",
            "Note: you may need to restart the kernel to use updated packages.\n"
          ]
        }
      ],
      "source": [
        "pip install twython"
      ]
    },
    {
      "cell_type": "code",
      "execution_count": null,
      "metadata": {
        "id": "TpilDdb9J5LX"
      },
      "outputs": [],
      "source": [
        "data = pd.read_csv('Data_Cleaning/Individual_Tweets_4-29.csv')  "
      ]
    },
    {
      "cell_type": "code",
      "execution_count": null,
      "metadata": {
        "scrolled": false,
        "id": "JsshTNzpJ5LY",
        "outputId": "49ca9041-c142-45c0-e045-f2e17c67565a"
      },
      "outputs": [
        {
          "data": {
            "text/html": [
              "<div>\n",
              "<style scoped>\n",
              "    .dataframe tbody tr th:only-of-type {\n",
              "        vertical-align: middle;\n",
              "    }\n",
              "\n",
              "    .dataframe tbody tr th {\n",
              "        vertical-align: top;\n",
              "    }\n",
              "\n",
              "    .dataframe thead th {\n",
              "        text-align: right;\n",
              "    }\n",
              "</style>\n",
              "<table border=\"1\" class=\"dataframe\">\n",
              "  <thead>\n",
              "    <tr style=\"text-align: right;\">\n",
              "      <th></th>\n",
              "      <th>Datetime</th>\n",
              "      <th>Tweet Id</th>\n",
              "      <th>Username</th>\n",
              "      <th>Like Count</th>\n",
              "      <th>Display Name</th>\n",
              "      <th>Text_lemmatized</th>\n",
              "    </tr>\n",
              "  </thead>\n",
              "  <tbody>\n",
              "    <tr>\n",
              "      <th>0</th>\n",
              "      <td>2021-02-27 23:59:59+00:00</td>\n",
              "      <td>1365813964320501767</td>\n",
              "      <td>seeker375</td>\n",
              "      <td>0</td>\n",
              "      <td>Matthew</td>\n",
              "      <td>['ive', 'trying', 'tweet', 'dr', 'yeadon', 'lo...</td>\n",
              "    </tr>\n",
              "    <tr>\n",
              "      <th>1</th>\n",
              "      <td>2021-02-27 23:59:58+00:00</td>\n",
              "      <td>1365813959333318656</td>\n",
              "      <td>Richard31225984</td>\n",
              "      <td>0</td>\n",
              "      <td>Demosthenies MAN / MAN</td>\n",
              "      <td>['food', 'drug', 'administration', 'authorized...</td>\n",
              "    </tr>\n",
              "    <tr>\n",
              "      <th>2</th>\n",
              "      <td>2021-02-27 23:59:57+00:00</td>\n",
              "      <td>1365813958163111938</td>\n",
              "      <td>NxtLevelPromo_</td>\n",
              "      <td>36</td>\n",
              "      <td>NxtLevelPromo</td>\n",
              "      <td>['ap', 'there', 'three', 'covid19', 'vaccine',...</td>\n",
              "    </tr>\n",
              "    <tr>\n",
              "      <th>3</th>\n",
              "      <td>2021-02-27 23:59:49+00:00</td>\n",
              "      <td>1365813925082763266</td>\n",
              "      <td>WENYNicholasP</td>\n",
              "      <td>0</td>\n",
              "      <td>Nicholas Phillips</td>\n",
              "      <td>['johnson', 'amp', 'johnson', 'covid19', 'vacc...</td>\n",
              "    </tr>\n",
              "    <tr>\n",
              "      <th>4</th>\n",
              "      <td>2021-02-27 23:59:46+00:00</td>\n",
              "      <td>1365813911208030213</td>\n",
              "      <td>xphile101</td>\n",
              "      <td>1</td>\n",
              "      <td>Michelle</td>\n",
              "      <td>['aamots20', 'likethe309', 'cousin', 'doctor',...</td>\n",
              "    </tr>\n",
              "  </tbody>\n",
              "</table>\n",
              "</div>"
            ],
            "text/plain": [
              "                    Datetime             Tweet Id         Username  \\\n",
              "0  2021-02-27 23:59:59+00:00  1365813964320501767        seeker375   \n",
              "1  2021-02-27 23:59:58+00:00  1365813959333318656  Richard31225984   \n",
              "2  2021-02-27 23:59:57+00:00  1365813958163111938   NxtLevelPromo_   \n",
              "3  2021-02-27 23:59:49+00:00  1365813925082763266    WENYNicholasP   \n",
              "4  2021-02-27 23:59:46+00:00  1365813911208030213        xphile101   \n",
              "\n",
              "   Like Count            Display Name  \\\n",
              "0           0                 Matthew   \n",
              "1           0  Demosthenies MAN / MAN   \n",
              "2          36           NxtLevelPromo   \n",
              "3           0       Nicholas Phillips   \n",
              "4           1                Michelle   \n",
              "\n",
              "                                     Text_lemmatized  \n",
              "0  ['ive', 'trying', 'tweet', 'dr', 'yeadon', 'lo...  \n",
              "1  ['food', 'drug', 'administration', 'authorized...  \n",
              "2  ['ap', 'there', 'three', 'covid19', 'vaccine',...  \n",
              "3  ['johnson', 'amp', 'johnson', 'covid19', 'vacc...  \n",
              "4  ['aamots20', 'likethe309', 'cousin', 'doctor',...  "
            ]
          },
          "execution_count": 18,
          "metadata": {},
          "output_type": "execute_result"
        }
      ],
      "source": [
        "data.head()"
      ]
    },
    {
      "cell_type": "code",
      "execution_count": null,
      "metadata": {
        "id": "b79IpBRkJ5LZ",
        "outputId": "c29f3407-2a55-4e74-dffb-b4ac8799bb1c"
      },
      "outputs": [
        {
          "data": {
            "text/plain": [
              "(6024, 6)"
            ]
          },
          "execution_count": 19,
          "metadata": {},
          "output_type": "execute_result"
        }
      ],
      "source": [
        "data.shape"
      ]
    },
    {
      "cell_type": "code",
      "execution_count": null,
      "metadata": {
        "id": "CSR05JnDJ5La",
        "outputId": "b74b0aec-9c35-4025-c567-00e23982565e"
      },
      "outputs": [
        {
          "name": "stderr",
          "output_type": "stream",
          "text": [
            "/var/folders/hx/0dxb0wn51wx5pscstjkwf2gc000qqf/T/ipykernel_42236/1596696550.py:1: FutureWarning:\n",
            "\n",
            "The default value of regex will change from True to False in a future version.\n",
            "\n"
          ]
        }
      ],
      "source": [
        "data['Text_lemmatized'] = data['Text_lemmatized'].str.replace('[^\\w\\s]','')"
      ]
    },
    {
      "cell_type": "code",
      "execution_count": null,
      "metadata": {
        "id": "YWKugWmFJ5Ld"
      },
      "outputs": [],
      "source": [
        "from vaderSentiment.vaderSentiment import SentimentIntensityAnalyzer\n",
        "new_words = {\n",
        "    'cpos': -3.0,\n",
        "    'cneg': 3.0,\n",
        "}\n",
        "analyser = SentimentIntensityAnalyzer()\n",
        "analyser.lexicon.update(new_words)\n",
        "scores=[]\n",
        "for i in range(len(data['Text_lemmatized'])):\n",
        "    \n",
        "    score = analyser.polarity_scores(data['Text_lemmatized'][i])\n",
        "    score=score['compound']\n",
        "    scores.append(score)\n",
        "sentiment=[]\n",
        "for i in scores:\n",
        "    if i>=0.75:\n",
        "        sentiment.append('Overly Positive')\n",
        "    elif (i>=0.05) and (i<0.75):\n",
        "        sentiment.append('Positive')\n",
        "    elif i<=(-0.75):\n",
        "        sentiment.append('Overly Negative')\n",
        "    elif (i<=-0.05) and (i>-0.75):\n",
        "        sentiment.append('Negative')\n",
        "    else:\n",
        "        sentiment.append('Neutral')\n",
        "data['sentiment']= pd.Series(np.array(sentiment))"
      ]
    },
    {
      "cell_type": "code",
      "execution_count": null,
      "metadata": {
        "id": "VHxAfZr5J5Le"
      },
      "outputs": [],
      "source": [
        "data['score']= pd.Series(np.array(scores))"
      ]
    },
    {
      "cell_type": "code",
      "execution_count": null,
      "metadata": {
        "id": "d0a_ikudJ5Lf",
        "outputId": "3f2d2bd3-cb0b-4a41-a9fe-c0350570ea5d"
      },
      "outputs": [
        {
          "data": {
            "text/html": [
              "<div>\n",
              "<style scoped>\n",
              "    .dataframe tbody tr th:only-of-type {\n",
              "        vertical-align: middle;\n",
              "    }\n",
              "\n",
              "    .dataframe tbody tr th {\n",
              "        vertical-align: top;\n",
              "    }\n",
              "\n",
              "    .dataframe thead th {\n",
              "        text-align: right;\n",
              "    }\n",
              "</style>\n",
              "<table border=\"1\" class=\"dataframe\">\n",
              "  <thead>\n",
              "    <tr style=\"text-align: right;\">\n",
              "      <th></th>\n",
              "      <th>Datetime</th>\n",
              "      <th>Tweet Id</th>\n",
              "      <th>Username</th>\n",
              "      <th>Like Count</th>\n",
              "      <th>Display Name</th>\n",
              "      <th>Text_lemmatized</th>\n",
              "      <th>sentiment</th>\n",
              "      <th>score</th>\n",
              "    </tr>\n",
              "  </thead>\n",
              "  <tbody>\n",
              "    <tr>\n",
              "      <th>0</th>\n",
              "      <td>2021-02-27 23:59:59+00:00</td>\n",
              "      <td>1365813964320501767</td>\n",
              "      <td>seeker375</td>\n",
              "      <td>0</td>\n",
              "      <td>Matthew</td>\n",
              "      <td>ive trying tweet dr yeadon long time day would...</td>\n",
              "      <td>Negative</td>\n",
              "      <td>-0.4717</td>\n",
              "    </tr>\n",
              "    <tr>\n",
              "      <th>1</th>\n",
              "      <td>2021-02-27 23:59:58+00:00</td>\n",
              "      <td>1365813959333318656</td>\n",
              "      <td>Richard31225984</td>\n",
              "      <td>0</td>\n",
              "      <td>Demosthenies MAN / MAN</td>\n",
              "      <td>food drug administration authorized johnson am...</td>\n",
              "      <td>Negative</td>\n",
              "      <td>-0.6369</td>\n",
              "    </tr>\n",
              "    <tr>\n",
              "      <th>2</th>\n",
              "      <td>2021-02-27 23:59:57+00:00</td>\n",
              "      <td>1365813958163111938</td>\n",
              "      <td>NxtLevelPromo_</td>\n",
              "      <td>36</td>\n",
              "      <td>NxtLevelPromo</td>\n",
              "      <td>ap there three covid19 vaccine flint michigan ...</td>\n",
              "      <td>Negative</td>\n",
              "      <td>-0.3089</td>\n",
              "    </tr>\n",
              "    <tr>\n",
              "      <th>3</th>\n",
              "      <td>2021-02-27 23:59:49+00:00</td>\n",
              "      <td>1365813925082763266</td>\n",
              "      <td>WENYNicholasP</td>\n",
              "      <td>0</td>\n",
              "      <td>Nicholas Phillips</td>\n",
              "      <td>johnson amp johnson covid19 vaccine get emerge...</td>\n",
              "      <td>Negative</td>\n",
              "      <td>-0.3818</td>\n",
              "    </tr>\n",
              "    <tr>\n",
              "      <th>4</th>\n",
              "      <td>2021-02-27 23:59:46+00:00</td>\n",
              "      <td>1365813911208030213</td>\n",
              "      <td>xphile101</td>\n",
              "      <td>1</td>\n",
              "      <td>Michelle</td>\n",
              "      <td>aamots20 likethe309 cousin doctor covid last y...</td>\n",
              "      <td>Positive</td>\n",
              "      <td>0.6139</td>\n",
              "    </tr>\n",
              "  </tbody>\n",
              "</table>\n",
              "</div>"
            ],
            "text/plain": [
              "                    Datetime             Tweet Id         Username  \\\n",
              "0  2021-02-27 23:59:59+00:00  1365813964320501767        seeker375   \n",
              "1  2021-02-27 23:59:58+00:00  1365813959333318656  Richard31225984   \n",
              "2  2021-02-27 23:59:57+00:00  1365813958163111938   NxtLevelPromo_   \n",
              "3  2021-02-27 23:59:49+00:00  1365813925082763266    WENYNicholasP   \n",
              "4  2021-02-27 23:59:46+00:00  1365813911208030213        xphile101   \n",
              "\n",
              "   Like Count            Display Name  \\\n",
              "0           0                 Matthew   \n",
              "1           0  Demosthenies MAN / MAN   \n",
              "2          36           NxtLevelPromo   \n",
              "3           0       Nicholas Phillips   \n",
              "4           1                Michelle   \n",
              "\n",
              "                                     Text_lemmatized sentiment   score  \n",
              "0  ive trying tweet dr yeadon long time day would...  Negative -0.4717  \n",
              "1  food drug administration authorized johnson am...  Negative -0.6369  \n",
              "2  ap there three covid19 vaccine flint michigan ...  Negative -0.3089  \n",
              "3  johnson amp johnson covid19 vaccine get emerge...  Negative -0.3818  \n",
              "4  aamots20 likethe309 cousin doctor covid last y...  Positive  0.6139  "
            ]
          },
          "execution_count": 23,
          "metadata": {},
          "output_type": "execute_result"
        }
      ],
      "source": [
        "data.head()"
      ]
    },
    {
      "cell_type": "code",
      "execution_count": null,
      "metadata": {
        "id": "bjQUzKQ_J5Lg",
        "outputId": "7a820421-ddad-493b-b305-261ca810151a"
      },
      "outputs": [
        {
          "data": {
            "text/plain": [
              "(6024, 8)"
            ]
          },
          "execution_count": 24,
          "metadata": {},
          "output_type": "execute_result"
        }
      ],
      "source": [
        "data.shape"
      ]
    },
    {
      "cell_type": "code",
      "execution_count": null,
      "metadata": {
        "id": "7RkVvgV9J5Lh",
        "outputId": "a58106da-dbe1-40ec-9d0c-7321de253ad5"
      },
      "outputs": [
        {
          "ename": "KeyError",
          "evalue": "'cpos'",
          "output_type": "error",
          "traceback": [
            "\u001b[0;31m---------------------------------------------------------------------------\u001b[0m",
            "\u001b[0;31mKeyError\u001b[0m                                  Traceback (most recent call last)",
            "\u001b[0;32m~/opt/anaconda3/envs/twitter-covid-test/lib/python3.10/site-packages/pandas/core/indexes/base.py\u001b[0m in \u001b[0;36mget_loc\u001b[0;34m(self, key, method, tolerance)\u001b[0m\n\u001b[1;32m   3360\u001b[0m             \u001b[0;32mtry\u001b[0m\u001b[0;34m:\u001b[0m\u001b[0;34m\u001b[0m\u001b[0;34m\u001b[0m\u001b[0m\n\u001b[0;32m-> 3361\u001b[0;31m                 \u001b[0;32mreturn\u001b[0m \u001b[0mself\u001b[0m\u001b[0;34m.\u001b[0m\u001b[0m_engine\u001b[0m\u001b[0;34m.\u001b[0m\u001b[0mget_loc\u001b[0m\u001b[0;34m(\u001b[0m\u001b[0mcasted_key\u001b[0m\u001b[0;34m)\u001b[0m\u001b[0;34m\u001b[0m\u001b[0;34m\u001b[0m\u001b[0m\n\u001b[0m\u001b[1;32m   3362\u001b[0m             \u001b[0;32mexcept\u001b[0m \u001b[0mKeyError\u001b[0m \u001b[0;32mas\u001b[0m \u001b[0merr\u001b[0m\u001b[0;34m:\u001b[0m\u001b[0;34m\u001b[0m\u001b[0;34m\u001b[0m\u001b[0m\n",
            "\u001b[0;32m~/opt/anaconda3/envs/twitter-covid-test/lib/python3.10/site-packages/pandas/_libs/index.pyx\u001b[0m in \u001b[0;36mpandas._libs.index.IndexEngine.get_loc\u001b[0;34m()\u001b[0m\n",
            "\u001b[0;32m~/opt/anaconda3/envs/twitter-covid-test/lib/python3.10/site-packages/pandas/_libs/index.pyx\u001b[0m in \u001b[0;36mpandas._libs.index.IndexEngine.get_loc\u001b[0;34m()\u001b[0m\n",
            "\u001b[0;32mpandas/_libs/hashtable_class_helper.pxi\u001b[0m in \u001b[0;36mpandas._libs.hashtable.PyObjectHashTable.get_item\u001b[0;34m()\u001b[0m\n",
            "\u001b[0;32mpandas/_libs/hashtable_class_helper.pxi\u001b[0m in \u001b[0;36mpandas._libs.hashtable.PyObjectHashTable.get_item\u001b[0;34m()\u001b[0m\n",
            "\u001b[0;31mKeyError\u001b[0m: 'cpos'",
            "\nThe above exception was the direct cause of the following exception:\n",
            "\u001b[0;31mKeyError\u001b[0m                                  Traceback (most recent call last)",
            "\u001b[0;32m/var/folders/hx/0dxb0wn51wx5pscstjkwf2gc000qqf/T/ipykernel_42236/3014177682.py\u001b[0m in \u001b[0;36m<module>\u001b[0;34m\u001b[0m\n\u001b[0;32m----> 1\u001b[0;31m \u001b[0mdata\u001b[0m\u001b[0;34m[\u001b[0m\u001b[0mdata\u001b[0m\u001b[0;34m[\u001b[0m\u001b[0;34m'cpos'\u001b[0m\u001b[0;34m]\u001b[0m \u001b[0;34m==\u001b[0m \u001b[0;32mTrue\u001b[0m\u001b[0;34m]\u001b[0m\u001b[0;34m\u001b[0m\u001b[0;34m\u001b[0m\u001b[0m\n\u001b[0m",
            "\u001b[0;32m~/opt/anaconda3/envs/twitter-covid-test/lib/python3.10/site-packages/pandas/core/frame.py\u001b[0m in \u001b[0;36m__getitem__\u001b[0;34m(self, key)\u001b[0m\n\u001b[1;32m   3456\u001b[0m             \u001b[0;32mif\u001b[0m \u001b[0mself\u001b[0m\u001b[0;34m.\u001b[0m\u001b[0mcolumns\u001b[0m\u001b[0;34m.\u001b[0m\u001b[0mnlevels\u001b[0m \u001b[0;34m>\u001b[0m \u001b[0;36m1\u001b[0m\u001b[0;34m:\u001b[0m\u001b[0;34m\u001b[0m\u001b[0;34m\u001b[0m\u001b[0m\n\u001b[1;32m   3457\u001b[0m                 \u001b[0;32mreturn\u001b[0m \u001b[0mself\u001b[0m\u001b[0;34m.\u001b[0m\u001b[0m_getitem_multilevel\u001b[0m\u001b[0;34m(\u001b[0m\u001b[0mkey\u001b[0m\u001b[0;34m)\u001b[0m\u001b[0;34m\u001b[0m\u001b[0;34m\u001b[0m\u001b[0m\n\u001b[0;32m-> 3458\u001b[0;31m             \u001b[0mindexer\u001b[0m \u001b[0;34m=\u001b[0m \u001b[0mself\u001b[0m\u001b[0;34m.\u001b[0m\u001b[0mcolumns\u001b[0m\u001b[0;34m.\u001b[0m\u001b[0mget_loc\u001b[0m\u001b[0;34m(\u001b[0m\u001b[0mkey\u001b[0m\u001b[0;34m)\u001b[0m\u001b[0;34m\u001b[0m\u001b[0;34m\u001b[0m\u001b[0m\n\u001b[0m\u001b[1;32m   3459\u001b[0m             \u001b[0;32mif\u001b[0m \u001b[0mis_integer\u001b[0m\u001b[0;34m(\u001b[0m\u001b[0mindexer\u001b[0m\u001b[0;34m)\u001b[0m\u001b[0;34m:\u001b[0m\u001b[0;34m\u001b[0m\u001b[0;34m\u001b[0m\u001b[0m\n\u001b[1;32m   3460\u001b[0m                 \u001b[0mindexer\u001b[0m \u001b[0;34m=\u001b[0m \u001b[0;34m[\u001b[0m\u001b[0mindexer\u001b[0m\u001b[0;34m]\u001b[0m\u001b[0;34m\u001b[0m\u001b[0;34m\u001b[0m\u001b[0m\n",
            "\u001b[0;32m~/opt/anaconda3/envs/twitter-covid-test/lib/python3.10/site-packages/pandas/core/indexes/base.py\u001b[0m in \u001b[0;36mget_loc\u001b[0;34m(self, key, method, tolerance)\u001b[0m\n\u001b[1;32m   3361\u001b[0m                 \u001b[0;32mreturn\u001b[0m \u001b[0mself\u001b[0m\u001b[0;34m.\u001b[0m\u001b[0m_engine\u001b[0m\u001b[0;34m.\u001b[0m\u001b[0mget_loc\u001b[0m\u001b[0;34m(\u001b[0m\u001b[0mcasted_key\u001b[0m\u001b[0;34m)\u001b[0m\u001b[0;34m\u001b[0m\u001b[0;34m\u001b[0m\u001b[0m\n\u001b[1;32m   3362\u001b[0m             \u001b[0;32mexcept\u001b[0m \u001b[0mKeyError\u001b[0m \u001b[0;32mas\u001b[0m \u001b[0merr\u001b[0m\u001b[0;34m:\u001b[0m\u001b[0;34m\u001b[0m\u001b[0;34m\u001b[0m\u001b[0m\n\u001b[0;32m-> 3363\u001b[0;31m                 \u001b[0;32mraise\u001b[0m \u001b[0mKeyError\u001b[0m\u001b[0;34m(\u001b[0m\u001b[0mkey\u001b[0m\u001b[0;34m)\u001b[0m \u001b[0;32mfrom\u001b[0m \u001b[0merr\u001b[0m\u001b[0;34m\u001b[0m\u001b[0;34m\u001b[0m\u001b[0m\n\u001b[0m\u001b[1;32m   3364\u001b[0m \u001b[0;34m\u001b[0m\u001b[0m\n\u001b[1;32m   3365\u001b[0m         \u001b[0;32mif\u001b[0m \u001b[0mis_scalar\u001b[0m\u001b[0;34m(\u001b[0m\u001b[0mkey\u001b[0m\u001b[0;34m)\u001b[0m \u001b[0;32mand\u001b[0m \u001b[0misna\u001b[0m\u001b[0;34m(\u001b[0m\u001b[0mkey\u001b[0m\u001b[0;34m)\u001b[0m \u001b[0;32mand\u001b[0m \u001b[0;32mnot\u001b[0m \u001b[0mself\u001b[0m\u001b[0;34m.\u001b[0m\u001b[0mhasnans\u001b[0m\u001b[0;34m:\u001b[0m\u001b[0;34m\u001b[0m\u001b[0;34m\u001b[0m\u001b[0m\n",
            "\u001b[0;31mKeyError\u001b[0m: 'cpos'"
          ]
        }
      ],
      "source": [
        "data[data['cpos'] == True]"
      ]
    },
    {
      "cell_type": "code",
      "execution_count": null,
      "metadata": {
        "id": "UUOWcPDuJ5Lh",
        "outputId": "edc83667-377a-4dca-e941-e7357fbb1b18"
      },
      "outputs": [
        {
          "ename": "KeyError",
          "evalue": "2106225",
          "output_type": "error",
          "traceback": [
            "\u001b[0;31m---------------------------------------------------------------------------\u001b[0m",
            "\u001b[0;31mValueError\u001b[0m                                Traceback (most recent call last)",
            "\u001b[0;32m~/opt/anaconda3/envs/twitter-covid-test/lib/python3.10/site-packages/pandas/core/indexes/range.py\u001b[0m in \u001b[0;36mget_loc\u001b[0;34m(self, key, method, tolerance)\u001b[0m\n\u001b[1;32m    384\u001b[0m                 \u001b[0;32mtry\u001b[0m\u001b[0;34m:\u001b[0m\u001b[0;34m\u001b[0m\u001b[0;34m\u001b[0m\u001b[0m\n\u001b[0;32m--> 385\u001b[0;31m                     \u001b[0;32mreturn\u001b[0m \u001b[0mself\u001b[0m\u001b[0;34m.\u001b[0m\u001b[0m_range\u001b[0m\u001b[0;34m.\u001b[0m\u001b[0mindex\u001b[0m\u001b[0;34m(\u001b[0m\u001b[0mnew_key\u001b[0m\u001b[0;34m)\u001b[0m\u001b[0;34m\u001b[0m\u001b[0;34m\u001b[0m\u001b[0m\n\u001b[0m\u001b[1;32m    386\u001b[0m                 \u001b[0;32mexcept\u001b[0m \u001b[0mValueError\u001b[0m \u001b[0;32mas\u001b[0m \u001b[0merr\u001b[0m\u001b[0;34m:\u001b[0m\u001b[0;34m\u001b[0m\u001b[0;34m\u001b[0m\u001b[0m\n",
            "\u001b[0;31mValueError\u001b[0m: 2106225 is not in range",
            "\nThe above exception was the direct cause of the following exception:\n",
            "\u001b[0;31mKeyError\u001b[0m                                  Traceback (most recent call last)",
            "\u001b[0;32m/var/folders/hx/0dxb0wn51wx5pscstjkwf2gc000qqf/T/ipykernel_42236/350378162.py\u001b[0m in \u001b[0;36m<module>\u001b[0;34m\u001b[0m\n\u001b[0;32m----> 1\u001b[0;31m \u001b[0mdata\u001b[0m\u001b[0;34m[\u001b[0m\u001b[0;34m'Text_lemmatized'\u001b[0m\u001b[0;34m]\u001b[0m\u001b[0;34m[\u001b[0m\u001b[0;36m2106225\u001b[0m\u001b[0;34m]\u001b[0m\u001b[0;34m\u001b[0m\u001b[0;34m\u001b[0m\u001b[0m\n\u001b[0m",
            "\u001b[0;32m~/opt/anaconda3/envs/twitter-covid-test/lib/python3.10/site-packages/pandas/core/series.py\u001b[0m in \u001b[0;36m__getitem__\u001b[0;34m(self, key)\u001b[0m\n\u001b[1;32m    940\u001b[0m \u001b[0;34m\u001b[0m\u001b[0m\n\u001b[1;32m    941\u001b[0m         \u001b[0;32melif\u001b[0m \u001b[0mkey_is_scalar\u001b[0m\u001b[0;34m:\u001b[0m\u001b[0;34m\u001b[0m\u001b[0;34m\u001b[0m\u001b[0m\n\u001b[0;32m--> 942\u001b[0;31m             \u001b[0;32mreturn\u001b[0m \u001b[0mself\u001b[0m\u001b[0;34m.\u001b[0m\u001b[0m_get_value\u001b[0m\u001b[0;34m(\u001b[0m\u001b[0mkey\u001b[0m\u001b[0;34m)\u001b[0m\u001b[0;34m\u001b[0m\u001b[0;34m\u001b[0m\u001b[0m\n\u001b[0m\u001b[1;32m    943\u001b[0m \u001b[0;34m\u001b[0m\u001b[0m\n\u001b[1;32m    944\u001b[0m         \u001b[0;32mif\u001b[0m \u001b[0mis_hashable\u001b[0m\u001b[0;34m(\u001b[0m\u001b[0mkey\u001b[0m\u001b[0;34m)\u001b[0m\u001b[0;34m:\u001b[0m\u001b[0;34m\u001b[0m\u001b[0;34m\u001b[0m\u001b[0m\n",
            "\u001b[0;32m~/opt/anaconda3/envs/twitter-covid-test/lib/python3.10/site-packages/pandas/core/series.py\u001b[0m in \u001b[0;36m_get_value\u001b[0;34m(self, label, takeable)\u001b[0m\n\u001b[1;32m   1049\u001b[0m \u001b[0;34m\u001b[0m\u001b[0m\n\u001b[1;32m   1050\u001b[0m         \u001b[0;31m# Similar to Index.get_value, but we do not fall back to positional\u001b[0m\u001b[0;34m\u001b[0m\u001b[0;34m\u001b[0m\u001b[0m\n\u001b[0;32m-> 1051\u001b[0;31m         \u001b[0mloc\u001b[0m \u001b[0;34m=\u001b[0m \u001b[0mself\u001b[0m\u001b[0;34m.\u001b[0m\u001b[0mindex\u001b[0m\u001b[0;34m.\u001b[0m\u001b[0mget_loc\u001b[0m\u001b[0;34m(\u001b[0m\u001b[0mlabel\u001b[0m\u001b[0;34m)\u001b[0m\u001b[0;34m\u001b[0m\u001b[0;34m\u001b[0m\u001b[0m\n\u001b[0m\u001b[1;32m   1052\u001b[0m         \u001b[0;32mreturn\u001b[0m \u001b[0mself\u001b[0m\u001b[0;34m.\u001b[0m\u001b[0mindex\u001b[0m\u001b[0;34m.\u001b[0m\u001b[0m_get_values_for_loc\u001b[0m\u001b[0;34m(\u001b[0m\u001b[0mself\u001b[0m\u001b[0;34m,\u001b[0m \u001b[0mloc\u001b[0m\u001b[0;34m,\u001b[0m \u001b[0mlabel\u001b[0m\u001b[0;34m)\u001b[0m\u001b[0;34m\u001b[0m\u001b[0;34m\u001b[0m\u001b[0m\n\u001b[1;32m   1053\u001b[0m \u001b[0;34m\u001b[0m\u001b[0m\n",
            "\u001b[0;32m~/opt/anaconda3/envs/twitter-covid-test/lib/python3.10/site-packages/pandas/core/indexes/range.py\u001b[0m in \u001b[0;36mget_loc\u001b[0;34m(self, key, method, tolerance)\u001b[0m\n\u001b[1;32m    385\u001b[0m                     \u001b[0;32mreturn\u001b[0m \u001b[0mself\u001b[0m\u001b[0;34m.\u001b[0m\u001b[0m_range\u001b[0m\u001b[0;34m.\u001b[0m\u001b[0mindex\u001b[0m\u001b[0;34m(\u001b[0m\u001b[0mnew_key\u001b[0m\u001b[0;34m)\u001b[0m\u001b[0;34m\u001b[0m\u001b[0;34m\u001b[0m\u001b[0m\n\u001b[1;32m    386\u001b[0m                 \u001b[0;32mexcept\u001b[0m \u001b[0mValueError\u001b[0m \u001b[0;32mas\u001b[0m \u001b[0merr\u001b[0m\u001b[0;34m:\u001b[0m\u001b[0;34m\u001b[0m\u001b[0;34m\u001b[0m\u001b[0m\n\u001b[0;32m--> 387\u001b[0;31m                     \u001b[0;32mraise\u001b[0m \u001b[0mKeyError\u001b[0m\u001b[0;34m(\u001b[0m\u001b[0mkey\u001b[0m\u001b[0;34m)\u001b[0m \u001b[0;32mfrom\u001b[0m \u001b[0merr\u001b[0m\u001b[0;34m\u001b[0m\u001b[0;34m\u001b[0m\u001b[0m\n\u001b[0m\u001b[1;32m    388\u001b[0m             \u001b[0;32mraise\u001b[0m \u001b[0mKeyError\u001b[0m\u001b[0;34m(\u001b[0m\u001b[0mkey\u001b[0m\u001b[0;34m)\u001b[0m\u001b[0;34m\u001b[0m\u001b[0;34m\u001b[0m\u001b[0m\n\u001b[1;32m    389\u001b[0m         \u001b[0;32mreturn\u001b[0m \u001b[0msuper\u001b[0m\u001b[0;34m(\u001b[0m\u001b[0;34m)\u001b[0m\u001b[0;34m.\u001b[0m\u001b[0mget_loc\u001b[0m\u001b[0;34m(\u001b[0m\u001b[0mkey\u001b[0m\u001b[0;34m,\u001b[0m \u001b[0mmethod\u001b[0m\u001b[0;34m=\u001b[0m\u001b[0mmethod\u001b[0m\u001b[0;34m,\u001b[0m \u001b[0mtolerance\u001b[0m\u001b[0;34m=\u001b[0m\u001b[0mtolerance\u001b[0m\u001b[0;34m)\u001b[0m\u001b[0;34m\u001b[0m\u001b[0;34m\u001b[0m\u001b[0m\n",
            "\u001b[0;31mKeyError\u001b[0m: 2106225"
          ]
        }
      ],
      "source": [
        "data['Text_lemmatized'][2106225]"
      ]
    },
    {
      "cell_type": "code",
      "execution_count": null,
      "metadata": {
        "id": "0UXj2utsJ5Li"
      },
      "outputs": [],
      "source": [
        "data[data['cneg'] == True]"
      ]
    },
    {
      "cell_type": "code",
      "execution_count": null,
      "metadata": {
        "id": "cnICADkOJ5Li"
      },
      "outputs": [],
      "source": [
        "data.groupby(by=\"sentiment\").mean()"
      ]
    },
    {
      "cell_type": "code",
      "execution_count": null,
      "metadata": {
        "id": "A3eew4bzJ5Lj"
      },
      "outputs": [],
      "source": [
        "temp = data.groupby('sentiment').count()['Text_lemmatized'].reset_index().sort_values(by='Text_lemmatized',ascending=False)\n",
        "temp.style.background_gradient(cmap='Purples')"
      ]
    },
    {
      "cell_type": "code",
      "execution_count": null,
      "metadata": {
        "id": "2sVSVAvWJ5Lj"
      },
      "outputs": [],
      "source": [
        "plt.figure(figsize=(12,6))\n",
        "sns.countplot(x='sentiment',data=data)\n",
        "fig = go.Figure(go.Funnelarea(\n",
        "    text =temp.sentiment,\n",
        "    values = temp.Text_lemmatized,\n",
        "    title = {\"position\": \"top center\", \"text\": \"Funnel-Chart of Sentiment Distribution\"}\n",
        "    ))\n",
        "fig.show()"
      ]
    },
    {
      "cell_type": "code",
      "execution_count": null,
      "metadata": {
        "id": "tsk8auxZJ5Lk"
      },
      "outputs": [],
      "source": [
        "data[\"Datetime\"] = pd.to_datetime(data.Datetime) \n",
        "timeline = data.resample('D', on='Datetime')[\"sentiment\"].value_counts().unstack(1)\n",
        "\n",
        "timeline.reset_index(inplace=True)\n",
        "\n",
        "timeline = timeline.melt(\"Datetime\", var_name='sentiment',  value_name='vals')\n",
        "\n",
        "sns.set_style(\"whitegrid\")\n",
        "sns.lineplot(x=\"Datetime\", y=\"vals\", hue=\"sentiment\", data=timeline)\n",
        "plt.figure(figsize=(6,4))"
      ]
    },
    {
      "cell_type": "code",
      "execution_count": null,
      "metadata": {
        "id": "TTYkrlyLJ5Lk"
      },
      "outputs": [],
      "source": [
        "data.to_csv('sentiment_analysis_final.csv', index = False)"
      ]
    },
    {
      "cell_type": "code",
      "execution_count": null,
      "metadata": {
        "id": "UQ1tlekpJ5Ll"
      },
      "outputs": [],
      "source": [
        ""
      ]
    }
  ],
  "metadata": {
    "kernelspec": {
      "display_name": "twitter-covid-test",
      "language": "python",
      "name": "twitter-covid-test"
    },
    "language_info": {
      "codemirror_mode": {
        "name": "ipython",
        "version": 3
      },
      "file_extension": ".py",
      "mimetype": "text/x-python",
      "name": "python",
      "nbconvert_exporter": "python",
      "pygments_lexer": "ipython3",
      "version": "3.10.0"
    },
    "colab": {
      "name": "Sentiment analysis_Final.ipynb",
      "provenance": []
    }
  },
  "nbformat": 4,
  "nbformat_minor": 0
}