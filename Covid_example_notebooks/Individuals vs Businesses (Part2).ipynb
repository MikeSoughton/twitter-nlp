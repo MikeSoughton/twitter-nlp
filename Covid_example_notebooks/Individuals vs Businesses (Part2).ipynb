{
 "cells": [
  {
   "cell_type": "code",
   "execution_count": 1,
   "metadata": {
    "colab": {
     "base_uri": "https://localhost:8080/"
    },
    "executionInfo": {
     "elapsed": 572,
     "status": "ok",
     "timestamp": 1619672784314,
     "user": {
      "displayName": "Vivek Kumar",
      "photoUrl": "",
      "userId": "10816717870890478108"
     },
     "user_tz": 300
    },
    "id": "qFUQvu_PNn2t",
    "outputId": "dfe3df8a-377b-41f6-bd4e-cecfcefc3989"
   },
   "outputs": [
    {
     "name": "stdout",
     "output_type": "stream",
     "text": [
      "/Users/ms731/Documents/Physics/PhD/NLP/Analyzing-Twitter-Trends-On-COVID-19-Vaccinations/Codes Used/Data_Cleaning\n"
     ]
    }
   ],
   "source": [
    "%cd 'Data_Cleaning'"
   ]
  },
  {
   "cell_type": "code",
   "execution_count": 2,
   "metadata": {
    "colab": {
     "base_uri": "https://localhost:8080/"
    },
    "executionInfo": {
     "elapsed": 419,
     "status": "ok",
     "timestamp": 1619672852431,
     "user": {
      "displayName": "Vivek Kumar",
      "photoUrl": "",
      "userId": "10816717870890478108"
     },
     "user_tz": 300
    },
    "id": "240s7QOnNjcy",
    "outputId": "b88d8b44-bb21-4dda-9278-3bb6e962f527"
   },
   "outputs": [
    {
     "name": "stdout",
     "output_type": "stream",
     "text": [
      "Eighth Extract.csv           Sixth Extract.csv\r\n",
      "Fifth Extract.csv            Third Extract.csv\r\n",
      "First Extract.csv            Tweets_Business_Keywords.csv\r\n",
      "Fourth Extract.csv           Tweets_Feb.csv\r\n",
      "Second Extract.csv           Tweets_Feb_Cleaned.csv\r\n",
      "Seventh Extract.csv\r\n"
     ]
    }
   ],
   "source": [
    "!ls"
   ]
  },
  {
   "cell_type": "code",
   "execution_count": 3,
   "metadata": {
    "executionInfo": {
     "elapsed": 197,
     "status": "ok",
     "timestamp": 1619672853671,
     "user": {
      "displayName": "Vivek Kumar",
      "photoUrl": "",
      "userId": "10816717870890478108"
     },
     "user_tz": 300
    },
    "id": "GZs3Is2xN94l"
   },
   "outputs": [],
   "source": [
    "import pandas as pd"
   ]
  },
  {
   "cell_type": "code",
   "execution_count": 4,
   "metadata": {
    "colab": {
     "base_uri": "https://localhost:8080/"
    },
    "executionInfo": {
     "elapsed": 123507,
     "status": "ok",
     "timestamp": 1619672979574,
     "user": {
      "displayName": "Vivek Kumar",
      "photoUrl": "",
      "userId": "10816717870890478108"
     },
     "user_tz": 300
    },
    "id": "CDR2pflYN_jn",
    "outputId": "fa549824-987e-43b2-d43d-f9a444f2a749"
   },
   "outputs": [],
   "source": [
    "Tweets = pd.read_csv('Tweets_Business_Keywords.csv')"
   ]
  },
  {
   "cell_type": "code",
   "execution_count": 5,
   "metadata": {
    "colab": {
     "base_uri": "https://localhost:8080/"
    },
    "executionInfo": {
     "elapsed": 269,
     "status": "ok",
     "timestamp": 1619673008486,
     "user": {
      "displayName": "Vivek Kumar",
      "photoUrl": "",
      "userId": "10816717870890478108"
     },
     "user_tz": 300
    },
    "id": "58HREYvBOHCa",
    "outputId": "9cde8751-9c14-4152-cf52-e42df7d0b96f"
   },
   "outputs": [
    {
     "data": {
      "text/plain": [
       "(7839, 182)"
      ]
     },
     "execution_count": 5,
     "metadata": {},
     "output_type": "execute_result"
    }
   ],
   "source": [
    "Tweets.shape"
   ]
  },
  {
   "cell_type": "code",
   "execution_count": 6,
   "metadata": {
    "executionInfo": {
     "elapsed": 6079,
     "status": "ok",
     "timestamp": 1619673016332,
     "user": {
      "displayName": "Vivek Kumar",
      "photoUrl": "",
      "userId": "10816717870890478108"
     },
     "user_tz": 300
    },
    "id": "niV-0kpwOaeV"
   },
   "outputs": [],
   "source": [
    "Tweets.drop('Unnamed: 0', axis=1, inplace=True)"
   ]
  },
  {
   "cell_type": "code",
   "execution_count": 7,
   "metadata": {
    "colab": {
     "base_uri": "https://localhost:8080/"
    },
    "executionInfo": {
     "elapsed": 471,
     "status": "ok",
     "timestamp": 1619673019896,
     "user": {
      "displayName": "Vivek Kumar",
      "photoUrl": "",
      "userId": "10816717870890478108"
     },
     "user_tz": 300
    },
    "id": "vK0LbthDO5er",
    "outputId": "3dc807bd-a831-463f-bf43-a20e6e96d380"
   },
   "outputs": [
    {
     "data": {
      "text/plain": [
       "(7839, 181)"
      ]
     },
     "execution_count": 7,
     "metadata": {},
     "output_type": "execute_result"
    }
   ],
   "source": [
    "Tweets.shape"
   ]
  },
  {
   "cell_type": "code",
   "execution_count": 8,
   "metadata": {
    "colab": {
     "base_uri": "https://localhost:8080/",
     "height": 440
    },
    "executionInfo": {
     "elapsed": 299,
     "status": "ok",
     "timestamp": 1619673021200,
     "user": {
      "displayName": "Vivek Kumar",
      "photoUrl": "",
      "userId": "10816717870890478108"
     },
     "user_tz": 300
    },
    "id": "qaj5YOY1Ocpm",
    "outputId": "8dfeb2f7-28eb-4dc9-dc35-cd371cb7ded6"
   },
   "outputs": [
    {
     "data": {
      "text/html": [
       "<div>\n",
       "<style scoped>\n",
       "    .dataframe tbody tr th:only-of-type {\n",
       "        vertical-align: middle;\n",
       "    }\n",
       "\n",
       "    .dataframe tbody tr th {\n",
       "        vertical-align: top;\n",
       "    }\n",
       "\n",
       "    .dataframe thead th {\n",
       "        text-align: right;\n",
       "    }\n",
       "</style>\n",
       "<table border=\"1\" class=\"dataframe\">\n",
       "  <thead>\n",
       "    <tr style=\"text-align: right;\">\n",
       "      <th></th>\n",
       "      <th>Unnamed: 0.1</th>\n",
       "      <th>Datetime</th>\n",
       "      <th>Tweet Id</th>\n",
       "      <th>Text</th>\n",
       "      <th>Username</th>\n",
       "      <th>Like Count</th>\n",
       "      <th>Display Name</th>\n",
       "      <th>Language</th>\n",
       "      <th>Text_punc</th>\n",
       "      <th>Text_stop</th>\n",
       "      <th>...</th>\n",
       "      <th>Watch</th>\n",
       "      <th>Week1</th>\n",
       "      <th>Western</th>\n",
       "      <th>WHO</th>\n",
       "      <th>Wire</th>\n",
       "      <th>world</th>\n",
       "      <th>Wuhan</th>\n",
       "      <th>Yahoo</th>\n",
       "      <th>Zone</th>\n",
       "      <th>Zydus</th>\n",
       "    </tr>\n",
       "  </thead>\n",
       "  <tbody>\n",
       "    <tr>\n",
       "      <th>0</th>\n",
       "      <td>0</td>\n",
       "      <td>2021-02-27 23:59:59+00:00</td>\n",
       "      <td>1365813964756692993</td>\n",
       "      <td>are you ready to roll your sleeve up for the c...</td>\n",
       "      <td>USAGov</td>\n",
       "      <td>3</td>\n",
       "      <td>USAGov</td>\n",
       "      <td>en</td>\n",
       "      <td>are you ready to roll your sleeve up for the c...</td>\n",
       "      <td>ready roll sleeve covid19 vaccine state regist...</td>\n",
       "      <td>...</td>\n",
       "      <td>False</td>\n",
       "      <td>False</td>\n",
       "      <td>False</td>\n",
       "      <td>False</td>\n",
       "      <td>False</td>\n",
       "      <td>False</td>\n",
       "      <td>False</td>\n",
       "      <td>False</td>\n",
       "      <td>False</td>\n",
       "      <td>False</td>\n",
       "    </tr>\n",
       "    <tr>\n",
       "      <th>1</th>\n",
       "      <td>1</td>\n",
       "      <td>2021-02-27 23:59:59+00:00</td>\n",
       "      <td>1365813964320501767</td>\n",
       "      <td>i've been trying to tweet about dr yeadon, for...</td>\n",
       "      <td>seeker375</td>\n",
       "      <td>0</td>\n",
       "      <td>Matthew</td>\n",
       "      <td>en</td>\n",
       "      <td>ive been trying to tweet about dr yeadon for a...</td>\n",
       "      <td>ive trying tweet dr yeadon long time days woul...</td>\n",
       "      <td>...</td>\n",
       "      <td>False</td>\n",
       "      <td>False</td>\n",
       "      <td>False</td>\n",
       "      <td>False</td>\n",
       "      <td>False</td>\n",
       "      <td>False</td>\n",
       "      <td>False</td>\n",
       "      <td>False</td>\n",
       "      <td>False</td>\n",
       "      <td>False</td>\n",
       "    </tr>\n",
       "    <tr>\n",
       "      <th>2</th>\n",
       "      <td>2</td>\n",
       "      <td>2021-02-27 23:59:58+00:00</td>\n",
       "      <td>1365813962739179523</td>\n",
       "      <td>u.s. authorizes johnson &amp;amp; johnson’s covid-...</td>\n",
       "      <td>The_StreetPress</td>\n",
       "      <td>0</td>\n",
       "      <td>The Street Press</td>\n",
       "      <td>en</td>\n",
       "      <td>us authorizes johnson amp johnsons covid19 vac...</td>\n",
       "      <td>us authorizes johnson amp johnsons covid19 vac...</td>\n",
       "      <td>...</td>\n",
       "      <td>False</td>\n",
       "      <td>False</td>\n",
       "      <td>False</td>\n",
       "      <td>False</td>\n",
       "      <td>False</td>\n",
       "      <td>False</td>\n",
       "      <td>False</td>\n",
       "      <td>False</td>\n",
       "      <td>False</td>\n",
       "      <td>False</td>\n",
       "    </tr>\n",
       "    <tr>\n",
       "      <th>3</th>\n",
       "      <td>3</td>\n",
       "      <td>2021-02-27 23:59:58+00:00</td>\n",
       "      <td>1365813959333318656</td>\n",
       "      <td>the food and drug administration has authorize...</td>\n",
       "      <td>Richard31225984</td>\n",
       "      <td>0</td>\n",
       "      <td>Demosthenies MAN / MAN</td>\n",
       "      <td>en</td>\n",
       "      <td>the food and drug administration has authorize...</td>\n",
       "      <td>food drug administration authorized johnson am...</td>\n",
       "      <td>...</td>\n",
       "      <td>False</td>\n",
       "      <td>False</td>\n",
       "      <td>False</td>\n",
       "      <td>False</td>\n",
       "      <td>False</td>\n",
       "      <td>False</td>\n",
       "      <td>False</td>\n",
       "      <td>False</td>\n",
       "      <td>False</td>\n",
       "      <td>False</td>\n",
       "    </tr>\n",
       "    <tr>\n",
       "      <th>4</th>\n",
       "      <td>4</td>\n",
       "      <td>2021-02-27 23:59:57+00:00</td>\n",
       "      <td>1365813958163111938</td>\n",
       "      <td>@ap there’s three covid-19 vaccines but flint,...</td>\n",
       "      <td>NxtLevelPromo_</td>\n",
       "      <td>36</td>\n",
       "      <td>NxtLevelPromo</td>\n",
       "      <td>en</td>\n",
       "      <td>ap theres three covid19 vaccines but flint mic...</td>\n",
       "      <td>ap theres three covid19 vaccines flint michiga...</td>\n",
       "      <td>...</td>\n",
       "      <td>False</td>\n",
       "      <td>False</td>\n",
       "      <td>False</td>\n",
       "      <td>False</td>\n",
       "      <td>False</td>\n",
       "      <td>False</td>\n",
       "      <td>False</td>\n",
       "      <td>False</td>\n",
       "      <td>False</td>\n",
       "      <td>False</td>\n",
       "    </tr>\n",
       "  </tbody>\n",
       "</table>\n",
       "<p>5 rows × 181 columns</p>\n",
       "</div>"
      ],
      "text/plain": [
       "   Unnamed: 0.1                   Datetime             Tweet Id  \\\n",
       "0             0  2021-02-27 23:59:59+00:00  1365813964756692993   \n",
       "1             1  2021-02-27 23:59:59+00:00  1365813964320501767   \n",
       "2             2  2021-02-27 23:59:58+00:00  1365813962739179523   \n",
       "3             3  2021-02-27 23:59:58+00:00  1365813959333318656   \n",
       "4             4  2021-02-27 23:59:57+00:00  1365813958163111938   \n",
       "\n",
       "                                                Text         Username  \\\n",
       "0  are you ready to roll your sleeve up for the c...           USAGov   \n",
       "1  i've been trying to tweet about dr yeadon, for...        seeker375   \n",
       "2  u.s. authorizes johnson &amp; johnson’s covid-...  The_StreetPress   \n",
       "3  the food and drug administration has authorize...  Richard31225984   \n",
       "4  @ap there’s three covid-19 vaccines but flint,...   NxtLevelPromo_   \n",
       "\n",
       "   Like Count            Display Name Language  \\\n",
       "0           3                  USAGov       en   \n",
       "1           0                 Matthew       en   \n",
       "2           0        The Street Press       en   \n",
       "3           0  Demosthenies MAN / MAN       en   \n",
       "4          36           NxtLevelPromo       en   \n",
       "\n",
       "                                           Text_punc  \\\n",
       "0  are you ready to roll your sleeve up for the c...   \n",
       "1  ive been trying to tweet about dr yeadon for a...   \n",
       "2  us authorizes johnson amp johnsons covid19 vac...   \n",
       "3  the food and drug administration has authorize...   \n",
       "4  ap theres three covid19 vaccines but flint mic...   \n",
       "\n",
       "                                           Text_stop  ...  Watch  Week1  \\\n",
       "0  ready roll sleeve covid19 vaccine state regist...  ...  False  False   \n",
       "1  ive trying tweet dr yeadon long time days woul...  ...  False  False   \n",
       "2  us authorizes johnson amp johnsons covid19 vac...  ...  False  False   \n",
       "3  food drug administration authorized johnson am...  ...  False  False   \n",
       "4  ap theres three covid19 vaccines flint michiga...  ...  False  False   \n",
       "\n",
       "   Western    WHO   Wire  world  Wuhan  Yahoo   Zone  Zydus  \n",
       "0    False  False  False  False  False  False  False  False  \n",
       "1    False  False  False  False  False  False  False  False  \n",
       "2    False  False  False  False  False  False  False  False  \n",
       "3    False  False  False  False  False  False  False  False  \n",
       "4    False  False  False  False  False  False  False  False  \n",
       "\n",
       "[5 rows x 181 columns]"
      ]
     },
     "execution_count": 8,
     "metadata": {},
     "output_type": "execute_result"
    }
   ],
   "source": [
    "Tweets.head(5)"
   ]
  },
  {
   "cell_type": "code",
   "execution_count": 9,
   "metadata": {
    "executionInfo": {
     "elapsed": 4648,
     "status": "ok",
     "timestamp": 1619673057241,
     "user": {
      "displayName": "Vivek Kumar",
      "photoUrl": "",
      "userId": "10816717870890478108"
     },
     "user_tz": 300
    },
    "id": "WVHAq01lPCcA"
   },
   "outputs": [],
   "source": [
    "Tweets = Tweets[(Tweets['.com']==False) & (Tweets['.net']==False) &  (Tweets['24/7']==False) &  (Tweets['ABC']==False) &  (Tweets['ABS']==False) &  (Tweets['Affair']==False) \n",
    "#&  (Tweets['Africa']==False) &  (Tweets['agency']==False) &  (Tweets['Jazeera']==False) &  (Tweets['alert']==False) &  (Tweets['America']==False) &  (Tweets['Asia']==False) \n",
    "#&  (Tweets['Association']==False) &  (Tweets['AstraZeneca']==False) &  (Tweets['Australia']==False) &  (Tweets['BBC']==False) &  (Tweets['BioNTech']==False) &  (Tweets['Biotech']==False) \n",
    "#&  (Tweets['Bloomberg']==False) &  (Tweets['breaking']==False) &  (Tweets['Brief']==False) &  (Tweets['Briefly']==False) &  (Tweets['Bulletin']==False) &  (Tweets['Business']==False) \n",
    "#&  (Tweets['Buzz']==False) &  (Tweets['Canada']==False) &  (Tweets['CBS']==False) &  (Tweets['CDC']==False) &  (Tweets['Central']==False) &  (Tweets['channel']==False) \n",
    "]"
   ]
  },
  {
   "cell_type": "code",
   "execution_count": 10,
   "metadata": {
    "executionInfo": {
     "elapsed": 7379,
     "status": "ok",
     "timestamp": 1619673100537,
     "user": {
      "displayName": "Vivek Kumar",
      "photoUrl": "",
      "userId": "10816717870890478108"
     },
     "user_tz": 300
    },
    "id": "daSizGV-CXV9"
   },
   "outputs": [],
   "source": [
    "Tweets = Tweets[\n",
    "                #(Tweets['.com']==False) & (Tweets['.net']==False) &  (Tweets['24/7']==False) &  (Tweets['ABC']==False) &  (Tweets['ABS']==False) &  (Tweets['Affair']==False) \n",
    "#&  \n",
    "(Tweets['Africa']==False) &  (Tweets['agency']==False) &  (Tweets['Jazeera']==False) &  (Tweets['alert']==False) &  (Tweets['America']==False) &  (Tweets['Asia']==False) \n",
    "#&  (Tweets['Association']==False) &  (Tweets['AstraZeneca']==False) &  (Tweets['Australia']==False) &  (Tweets['BBC']==False) &  (Tweets['BioNTech']==False) &  (Tweets['Biotech']==False) \n",
    "#&  (Tweets['Bloomberg']==False) &  (Tweets['breaking']==False) &  (Tweets['Brief']==False) &  (Tweets['Briefly']==False) &  (Tweets['Bulletin']==False) &  (Tweets['Business']==False) \n",
    "#&  (Tweets['Buzz']==False) &  (Tweets['Canada']==False) &  (Tweets['CBS']==False) &  (Tweets['CDC']==False) &  (Tweets['Central']==False) &  (Tweets['channel']==False) \n",
    "]"
   ]
  },
  {
   "cell_type": "code",
   "execution_count": 11,
   "metadata": {
    "colab": {
     "base_uri": "https://localhost:8080/"
    },
    "executionInfo": {
     "elapsed": 367,
     "status": "ok",
     "timestamp": 1619673103283,
     "user": {
      "displayName": "Vivek Kumar",
      "photoUrl": "",
      "userId": "10816717870890478108"
     },
     "user_tz": 300
    },
    "id": "JHeQ4I5GREFo",
    "outputId": "bf7cf18e-eac2-4ab1-b19a-13a0274b1f48"
   },
   "outputs": [
    {
     "data": {
      "text/plain": [
       "(7547, 181)"
      ]
     },
     "execution_count": 11,
     "metadata": {},
     "output_type": "execute_result"
    }
   ],
   "source": [
    "Tweets.shape"
   ]
  },
  {
   "cell_type": "code",
   "execution_count": 12,
   "metadata": {
    "executionInfo": {
     "elapsed": 5663,
     "status": "ok",
     "timestamp": 1619673139937,
     "user": {
      "displayName": "Vivek Kumar",
      "photoUrl": "",
      "userId": "10816717870890478108"
     },
     "user_tz": 300
    },
    "id": "A9o5XhLpRH5l"
   },
   "outputs": [],
   "source": [
    "Tweets = Tweets[\n",
    "                  #(Tweets['.com']==False) & (Tweets['.net']==False) &  (Tweets['24/7']==False) &  (Tweets['ABC']==False) &  (Tweets['ABS']==False) &  (Tweets['Affair']==False) \n",
    "#&  (Tweets['Africa']==False) &  (Tweets['agency']==False) &  (Tweets['Jazeera']==False) &  (Tweets['alert']==False) &  (Tweets['America']==False) &  (Tweets['Asia']==False) \n",
    "(Tweets['Association']==False) &  (Tweets['AstraZeneca']==False) &  (Tweets['Australia']==False) &  (Tweets['BBC']==False) &  (Tweets['BioNTech']==False) &  (Tweets['Biotech']==False) \n",
    "#&  (Tweets['Bloomberg']==False) &  (Tweets['breaking']==False) &  (Tweets['Brief']==False) &  (Tweets['Briefly']==False) &  (Tweets['Bulletin']==False) &  (Tweets['Business']==False) \n",
    "#&  (Tweets['Buzz']==False) &  (Tweets['Canada']==False) &  (Tweets['CBS']==False) &  (Tweets['CDC']==False) &  (Tweets['Central']==False) &  (Tweets['channel']==False) \n",
    "]"
   ]
  },
  {
   "cell_type": "code",
   "execution_count": 13,
   "metadata": {
    "executionInfo": {
     "elapsed": 5619,
     "status": "ok",
     "timestamp": 1619673241248,
     "user": {
      "displayName": "Vivek Kumar",
      "photoUrl": "",
      "userId": "10816717870890478108"
     },
     "user_tz": 300
    },
    "id": "Pc3E1lZKCrSQ"
   },
   "outputs": [],
   "source": [
    "Tweets = Tweets[\n",
    "                  #(Tweets['.com']==False) & (Tweets['.net']==False) &  (Tweets['24/7']==False) &  (Tweets['ABC']==False) &  (Tweets['ABS']==False) &  (Tweets['Affair']==False) \n",
    "#&  (Tweets['Africa']==False) &  (Tweets['agency']==False) &  (Tweets['Jazeera']==False) &  (Tweets['alert']==False) &  (Tweets['America']==False) &  (Tweets['Asia']==False) \n",
    "#(Tweets['Association']==False) &  (Tweets['AstraZeneca']==False) &  (Tweets['Australia']==False) &  (Tweets['BBC']==False) &  (Tweets['BioNTech']==False) &  (Tweets['Biotech']==False) \n",
    "#&  \n",
    "(Tweets['Bloomberg']==False) &  (Tweets['breaking']==False) &  (Tweets['Brief']==False) &  (Tweets['Briefly']==False) &  (Tweets['Bulletin']==False) &  (Tweets['Business']==False) \n",
    "#&  (Tweets['Buzz']==False) &  (Tweets['Canada']==False) &  (Tweets['CBS']==False) &  (Tweets['CDC']==False) &  (Tweets['Central']==False) &  (Tweets['channel']==False) \n",
    "]"
   ]
  },
  {
   "cell_type": "code",
   "execution_count": 14,
   "metadata": {
    "colab": {
     "base_uri": "https://localhost:8080/"
    },
    "executionInfo": {
     "elapsed": 415,
     "status": "ok",
     "timestamp": 1619673252051,
     "user": {
      "displayName": "Vivek Kumar",
      "photoUrl": "",
      "userId": "10816717870890478108"
     },
     "user_tz": 300
    },
    "id": "7vpa2vPhDEB_",
    "outputId": "ec7f964b-2115-4037-98ef-f58797da6580"
   },
   "outputs": [
    {
     "data": {
      "text/plain": [
       "(7493, 181)"
      ]
     },
     "execution_count": 14,
     "metadata": {},
     "output_type": "execute_result"
    }
   ],
   "source": [
    "Tweets.shape"
   ]
  },
  {
   "cell_type": "code",
   "execution_count": 15,
   "metadata": {
    "colab": {
     "base_uri": "https://localhost:8080/"
    },
    "executionInfo": {
     "elapsed": 486,
     "status": "ok",
     "timestamp": 1619375001000,
     "user": {
      "displayName": "Vivek Kumar",
      "photoUrl": "",
      "userId": "10816717870890478108"
     },
     "user_tz": 300
    },
    "id": "PZ3gIuVjRQ4f",
    "outputId": "8020d59e-e69e-42dd-99f8-0e9f98057c19"
   },
   "outputs": [
    {
     "data": {
      "text/plain": [
       "(7493, 181)"
      ]
     },
     "execution_count": 15,
     "metadata": {},
     "output_type": "execute_result"
    }
   ],
   "source": [
    "Tweets.shape"
   ]
  },
  {
   "cell_type": "code",
   "execution_count": 16,
   "metadata": {
    "executionInfo": {
     "elapsed": 5540,
     "status": "ok",
     "timestamp": 1619673275856,
     "user": {
      "displayName": "Vivek Kumar",
      "photoUrl": "",
      "userId": "10816717870890478108"
     },
     "user_tz": 300
    },
    "id": "g4SteZ-vRYt4"
   },
   "outputs": [],
   "source": [
    "Tweets = Tweets[\n",
    "                #(Tweets['.com']==False) & (Tweets['.net']==False) &  (Tweets['24/7']==False) &  (Tweets['ABC']==False) &  (Tweets['ABS']==False) &  (Tweets['Affair']==False) \n",
    "#&  (Tweets['Africa']==False) &  (Tweets['agency']==False) &  (Tweets['Jazeera']==False) &  (Tweets['alert']==False) &  (Tweets['America']==False) &  (Tweets['Asia']==False) \n",
    "#&  (Tweets['Association']==False) &  (Tweets['AstraZeneca']==False) &  (Tweets['Australia']==False) &  (Tweets['BBC']==False) &  (Tweets['BioNTech']==False) &  (Tweets['Biotech']==False) \n",
    "#&  (Tweets['Bloomberg']==False) &  (Tweets['breaking']==False) &  (Tweets['Brief']==False) &  (Tweets['Briefly']==False) &  (Tweets['Bulletin']==False) &  (Tweets['Business']==False) \n",
    "#&  \n",
    "(Tweets['Buzz']==False) &  (Tweets['Canada']==False) &  (Tweets['CBS']==False) &  (Tweets['CDC']==False) &  (Tweets['Central']==False) &  (Tweets['channel']==False) \n",
    "]"
   ]
  },
  {
   "cell_type": "code",
   "execution_count": 17,
   "metadata": {
    "colab": {
     "base_uri": "https://localhost:8080/"
    },
    "executionInfo": {
     "elapsed": 223,
     "status": "ok",
     "timestamp": 1619673279220,
     "user": {
      "displayName": "Vivek Kumar",
      "photoUrl": "",
      "userId": "10816717870890478108"
     },
     "user_tz": 300
    },
    "id": "9uicyS0eRgca",
    "outputId": "1b917e2c-5048-4ddd-daf0-ef3fe9bc1b1e"
   },
   "outputs": [
    {
     "data": {
      "text/plain": [
       "(7426, 181)"
      ]
     },
     "execution_count": 17,
     "metadata": {},
     "output_type": "execute_result"
    }
   ],
   "source": [
    "Tweets.shape"
   ]
  },
  {
   "cell_type": "code",
   "execution_count": 18,
   "metadata": {
    "executionInfo": {
     "elapsed": 6220,
     "status": "ok",
     "timestamp": 1619673314251,
     "user": {
      "displayName": "Vivek Kumar",
      "photoUrl": "",
      "userId": "10816717870890478108"
     },
     "user_tz": 300
    },
    "id": "OnprmTOFRje2"
   },
   "outputs": [],
   "source": [
    "Tweets = Tweets[(  Tweets['China']==False) &  (  Tweets['Chronicle']==False) &  (  Tweets['Circuit']==False) &  (  Tweets['Citizen']==False) &  (  Tweets['city']==False) &  (  Tweets['CNA']==False) \n",
    "&  (  Tweets['CNN']==False) &  (  Tweets['Commercial']==False) &  (  Tweets['consulting']==False) &  (  Tweets['CoronaVac']==False) &  (  Tweets['Council']==False) &  (  Tweets['county']==False) \n",
    "#&  (  Tweets['Covaxin']==False) &  (  Tweets['Covid']==False) &  (  Tweets['Covid-19']==False) &  (  Tweets['CoviShield']==False) &  (  Tweets['Current']==False) &  (  Tweets['CVS']==False) \n",
    "#&  (  Tweets['daily']==False) &  (  Tweets['Desk']==False) &  (  Tweets['Dialogue']==False) &  (  Tweets['Digital']==False) &  (  Tweets['Eastern']==False) &  (  Tweets['Economic']==False) \n",
    "#&  (  Tweets['Empire']==False) &  (  Tweets['EpiVacCorona']==False) &  (  Tweets['Europe']==False) &  (  Tweets['Express']==False) &  (  Tweets['Federation']==False) &  (  Tweets['feeds']==False) \n",
    "]"
   ]
  },
  {
   "cell_type": "code",
   "execution_count": 19,
   "metadata": {
    "colab": {
     "base_uri": "https://localhost:8080/"
    },
    "executionInfo": {
     "elapsed": 190,
     "status": "ok",
     "timestamp": 1619673320820,
     "user": {
      "displayName": "Vivek Kumar",
      "photoUrl": "",
      "userId": "10816717870890478108"
     },
     "user_tz": 300
    },
    "id": "Hi_7UYOfR3SO",
    "outputId": "fd5d859f-f73a-467d-e21c-27b1db1109fa"
   },
   "outputs": [
    {
     "data": {
      "text/plain": [
       "(7329, 181)"
      ]
     },
     "execution_count": 19,
     "metadata": {},
     "output_type": "execute_result"
    }
   ],
   "source": [
    "Tweets.shape"
   ]
  },
  {
   "cell_type": "code",
   "execution_count": 20,
   "metadata": {
    "executionInfo": {
     "elapsed": 6299,
     "status": "ok",
     "timestamp": 1619673329967,
     "user": {
      "displayName": "Vivek Kumar",
      "photoUrl": "",
      "userId": "10816717870890478108"
     },
     "user_tz": 300
    },
    "id": "dFAzrwpPR66T"
   },
   "outputs": [],
   "source": [
    "Tweets = Tweets[\n",
    "                #(Tweets['China']==False) &  (  Tweets['Chronicle']==False) &  (  Tweets['Circuit']==False) &  (  Tweets['Citizen']==False) &  (  Tweets['city']==False) &  (  Tweets['CNA']==False) \n",
    "#&  (  Tweets['CNN']==False) &  (  Tweets['Commercial']==False) &  (  Tweets['consulting']==False) &  (  Tweets['CoronaVac']==False) &  (  Tweets['Council']==False) &  (  Tweets['county']==False) \n",
    "#&  \n",
    "(  Tweets['Covaxin']==False) &  (  Tweets['Covid']==False) &  (  Tweets['Covid-19']==False) &  (  Tweets['CoviShield']==False) &  (  Tweets['Current']==False) &  (  Tweets['CVS']==False) \n",
    "&  (  Tweets['daily']==False) &  (  Tweets['Desk']==False) &  (  Tweets['Dialogue']==False) &  (  Tweets['Digital']==False) &  (  Tweets['Eastern']==False) &  (  Tweets['Economic']==False) \n",
    "#&  (  Tweets['Empire']==False) &  (  Tweets['EpiVacCorona']==False) &  (  Tweets['Europe']==False) &  (  Tweets['Express']==False) &  (  Tweets['Federation']==False) &  (  Tweets['feeds']==False) \n",
    "]"
   ]
  },
  {
   "cell_type": "code",
   "execution_count": 21,
   "metadata": {
    "colab": {
     "base_uri": "https://localhost:8080/"
    },
    "executionInfo": {
     "elapsed": 309,
     "status": "ok",
     "timestamp": 1619673332192,
     "user": {
      "displayName": "Vivek Kumar",
      "photoUrl": "",
      "userId": "10816717870890478108"
     },
     "user_tz": 300
    },
    "id": "Jn1hsIMBSB0U",
    "outputId": "56676a97-7ce2-44ae-8f87-99b418e1fd6b"
   },
   "outputs": [
    {
     "data": {
      "text/plain": [
       "(7237, 181)"
      ]
     },
     "execution_count": 21,
     "metadata": {},
     "output_type": "execute_result"
    }
   ],
   "source": [
    "Tweets.shape"
   ]
  },
  {
   "cell_type": "code",
   "execution_count": 22,
   "metadata": {
    "executionInfo": {
     "elapsed": 5739,
     "status": "ok",
     "timestamp": 1619673342420,
     "user": {
      "displayName": "Vivek Kumar",
      "photoUrl": "",
      "userId": "10816717870890478108"
     },
     "user_tz": 300
    },
    "id": "X6e9_B6SSJuu"
   },
   "outputs": [],
   "source": [
    "Tweets = Tweets[\n",
    "                #(  Tweets['China']==False) &  (  Tweets['Chronicle']==False) &  (  Tweets['Circuit']==False) &  (  Tweets['Citizen']==False) &  (  Tweets['city']==False) &  (  Tweets['CNA']==False) \n",
    "#&  (  Tweets['CNN']==False) &  (  Tweets['Commercial']==False) &  (  Tweets['consulting']==False) &  (  Tweets['CoronaVac']==False) &  (  Tweets['Council']==False) &  (  Tweets['county']==False) \n",
    "#&  (  Tweets['Covaxin']==False) &  (  Tweets['Covid']==False) &  (  Tweets['Covid-19']==False) &  (  Tweets['CoviShield']==False) &  (  Tweets['Current']==False) &  (  Tweets['CVS']==False) \n",
    "#&  (  Tweets['daily']==False) &  (  Tweets['Desk']==False) &  (  Tweets['Dialogue']==False) &  (  Tweets['Digital']==False) &  (  Tweets['Eastern']==False) &  (  Tweets['Economic']==False) \n",
    "#&  \n",
    "(  Tweets['Empire']==False) &  (  Tweets['EpiVacCorona']==False) &  (  Tweets['Europe']==False) &  (  Tweets['Express']==False) &  (  Tweets['Federation']==False) &  (  Tweets['feeds']==False) \n",
    "]"
   ]
  },
  {
   "cell_type": "code",
   "execution_count": 23,
   "metadata": {
    "colab": {
     "base_uri": "https://localhost:8080/"
    },
    "executionInfo": {
     "elapsed": 210,
     "status": "ok",
     "timestamp": 1619673343536,
     "user": {
      "displayName": "Vivek Kumar",
      "photoUrl": "",
      "userId": "10816717870890478108"
     },
     "user_tz": 300
    },
    "id": "Xgx8P8_SSRP6",
    "outputId": "d5f27912-2aad-4e8e-a649-b6060280211b"
   },
   "outputs": [
    {
     "data": {
      "text/plain": [
       "(7229, 181)"
      ]
     },
     "execution_count": 23,
     "metadata": {},
     "output_type": "execute_result"
    }
   ],
   "source": [
    "Tweets.shape"
   ]
  },
  {
   "cell_type": "code",
   "execution_count": 24,
   "metadata": {
    "executionInfo": {
     "elapsed": 6336,
     "status": "ok",
     "timestamp": 1619673356468,
     "user": {
      "displayName": "Vivek Kumar",
      "photoUrl": "",
      "userId": "10816717870890478108"
     },
     "user_tz": 300
    },
    "id": "ZEoF4nmMSUEj"
   },
   "outputs": [],
   "source": [
    "Tweets =   Tweets[(  Tweets['Finder']==False) &  (  Tweets['First']==False) &  (  Tweets['Forbes']==False) &  (  Tweets['Fox']==False) &  (  Tweets['General']==False) &  (  Tweets['global']==False) \n",
    "&  (  Tweets['gov']==False) &  (  Tweets['group']==False) &  (  Tweets['Guardian']==False) &  (  Tweets['headline']==False) &  (  Tweets['Headlines']==False) &  (  Tweets['health']==False) \n",
    "&  (  Tweets['hospital']==False) &  (  Tweets['Hour']==False) &  (  Tweets['Hub']==False) \n",
    "#&  (  Tweets['India']==False) &  (  Tweets['Insider']==False) &  (  Tweets['Issues']==False) \n",
    "#&  (  Tweets['Janssen']==False) &  (  Tweets['Johnson & Johnson']==False) &  (  Tweets['J&J']==False) &  (  Tweets['Journal']==False) &  (  Tweets['Journalists']==False) &  (  Tweets['Kroger']==False) \n",
    "#&  (  Tweets['Latest']==False) &  (  Tweets['Live']==False) &  (  Tweets['LLC']==False) &  (  Tweets['local']==False) &  (  Tweets['mail']==False) &  (  Tweets['Market']==False) &  (  Tweets['mass']==False) \n",
    "]"
   ]
  },
  {
   "cell_type": "code",
   "execution_count": 25,
   "metadata": {
    "colab": {
     "base_uri": "https://localhost:8080/"
    },
    "executionInfo": {
     "elapsed": 212,
     "status": "ok",
     "timestamp": 1619673357747,
     "user": {
      "displayName": "Vivek Kumar",
      "photoUrl": "",
      "userId": "10816717870890478108"
     },
     "user_tz": 300
    },
    "id": "AfEYhM4SSjc9",
    "outputId": "fc35643d-2b72-407d-a7b1-eb88f1fea7ba"
   },
   "outputs": [
    {
     "data": {
      "text/plain": [
       "(7001, 181)"
      ]
     },
     "execution_count": 25,
     "metadata": {},
     "output_type": "execute_result"
    }
   ],
   "source": [
    "Tweets.shape"
   ]
  },
  {
   "cell_type": "code",
   "execution_count": 26,
   "metadata": {
    "executionInfo": {
     "elapsed": 6429,
     "status": "ok",
     "timestamp": 1619673366370,
     "user": {
      "displayName": "Vivek Kumar",
      "photoUrl": "",
      "userId": "10816717870890478108"
     },
     "user_tz": 300
    },
    "id": "jQz2TIdISmT8"
   },
   "outputs": [],
   "source": [
    "Tweets =   Tweets[\n",
    "                  #(  Tweets['Finder']==False) &  (  Tweets['First']==False) &  (  Tweets['Forbes']==False) &  (  Tweets['Fox']==False) &  (  Tweets['General']==False) &  (  Tweets['global']==False) \n",
    "#&  (  Tweets['gov']==False) &  (  Tweets['group']==False) &  (  Tweets['Guardian']==False) &  (  Tweets['headline']==False) &  (  Tweets['Headlines']==False) &  (  Tweets['health']==False) \n",
    "#&  (  Tweets['hospital']==False) &  (  Tweets['Hour']==False) &  (  Tweets['Hub']==False) \n",
    "#&  \n",
    "(  Tweets['India']==False) &  (  Tweets['Insider']==False) &  (  Tweets['Issues']==False) \n",
    "&  (  Tweets['Janssen']==False) &  (  Tweets['Johnson & Johnson']==False) &  (  Tweets['J&J']==False) &  (  Tweets['Journal']==False) &  (  Tweets['Journalists']==False) &  (  Tweets['Kroger']==False) \n",
    "&  (  Tweets['Latest']==False) &  (  Tweets['Live']==False) &  (  Tweets['LLC']==False) &  (  Tweets['local']==False) &  (  Tweets['mail']==False) &  (  Tweets['Market']==False) &  (  Tweets['mass']==False) \n",
    "]"
   ]
  },
  {
   "cell_type": "code",
   "execution_count": 27,
   "metadata": {
    "colab": {
     "base_uri": "https://localhost:8080/"
    },
    "executionInfo": {
     "elapsed": 291,
     "status": "ok",
     "timestamp": 1619673372820,
     "user": {
      "displayName": "Vivek Kumar",
      "photoUrl": "",
      "userId": "10816717870890478108"
     },
     "user_tz": 300
    },
    "id": "q7Vw3ApxSthN",
    "outputId": "29a2057e-3e69-4ba1-b495-c43b9f7d68f0"
   },
   "outputs": [
    {
     "data": {
      "text/plain": [
       "(6911, 181)"
      ]
     },
     "execution_count": 27,
     "metadata": {},
     "output_type": "execute_result"
    }
   ],
   "source": [
    "Tweets.shape"
   ]
  },
  {
   "cell_type": "code",
   "execution_count": 28,
   "metadata": {
    "executionInfo": {
     "elapsed": 6316,
     "status": "ok",
     "timestamp": 1619673381085,
     "user": {
      "displayName": "Vivek Kumar",
      "photoUrl": "",
      "userId": "10816717870890478108"
     },
     "user_tz": 300
    },
    "id": "vQWdyLF7SwgR"
   },
   "outputs": [],
   "source": [
    "Tweets = Tweets[(  Tweets['media']==False) &  (  Tweets['Medical']==False) &  (  Tweets['Medium']==False) &  (  Tweets['Messenger']==False) &  (  Tweets['Moderna']==False) &  (  Tweets['Month']==False) \n",
    "&  (  Tweets['Morning']==False) &  (  Tweets['nation']==False) &  (  Tweets['National']==False) &  (  Tweets['NBC']==False) &  (  Tweets['network']==False) &  (  Tweets['New York']==False) \n",
    "&  (  Tweets['news']==False) &  (  Tweets['Newspaper']==False) &  (  Tweets['Novavax']==False) &  (  Tweets['Now']==False) &  (  Tweets['online']==False) &  (  Tweets['Org']==False) \n",
    "#&  (  Tweets['organization']==False) &  (  Tweets['Pandemic']==False) &  (  Tweets['Pfizer']==False) &  (  Tweets['Pharmacy']==False) &  (  Tweets['Philippines']==False) &  (  Tweets['Podcast']==False) \n",
    "#&  (  Tweets['Policy']==False) &  (  Tweets['Political']==False) &  (  Tweets['Popular']==False) &  (  Tweets['Post']==False) &  (  Tweets['press']==False) &  (  Tweets['Progress']==False) \n",
    "#&  (  Tweets['Project']==False) &  (  Tweets['Public']==False) &  (  Tweets['Radio']==False) &  (  Tweets['Reporter']==False) &  (  Tweets['Republic']==False) &  (  Tweets['Reuters']==False) \n",
    "]"
   ]
  },
  {
   "cell_type": "code",
   "execution_count": 29,
   "metadata": {
    "colab": {
     "base_uri": "https://localhost:8080/"
    },
    "executionInfo": {
     "elapsed": 182,
     "status": "ok",
     "timestamp": 1619673382173,
     "user": {
      "displayName": "Vivek Kumar",
      "photoUrl": "",
      "userId": "10816717870890478108"
     },
     "user_tz": 300
    },
    "id": "xg2uBCBLTBL_",
    "outputId": "dbd3ba48-f5c5-4cf4-bd04-c08cb9ac45b5"
   },
   "outputs": [
    {
     "data": {
      "text/plain": [
       "(6421, 181)"
      ]
     },
     "execution_count": 29,
     "metadata": {},
     "output_type": "execute_result"
    }
   ],
   "source": [
    "Tweets.shape"
   ]
  },
  {
   "cell_type": "code",
   "execution_count": 30,
   "metadata": {
    "executionInfo": {
     "elapsed": 6169,
     "status": "ok",
     "timestamp": 1619673389828,
     "user": {
      "displayName": "Vivek Kumar",
      "photoUrl": "",
      "userId": "10816717870890478108"
     },
     "user_tz": 300
    },
    "id": "m-GeU1tZTFCE"
   },
   "outputs": [],
   "source": [
    "Tweets = Tweets[\n",
    "                #(  Tweets['media']==False) &  (  Tweets['Medical']==False) &  (  Tweets['Medium']==False) &  (  Tweets['Messenger']==False) &  (  Tweets['Moderna']==False) &  (  Tweets['Month']==False) \n",
    "#&  (  Tweets['Morning']==False) &  (  Tweets['nation']==False) &  (  Tweets['National']==False) &  (  Tweets['NBC']==False) &  (  Tweets['network']==False) &  (  Tweets['New York']==False) \n",
    "#&  (  Tweets['news']==False) &  (  Tweets['Newspaper']==False) &  (  Tweets['Novavax']==False) &  (  Tweets['Now']==False) &  (  Tweets['online']==False) &  (  Tweets['Org']==False) \n",
    "#&  \n",
    "(  Tweets['organization']==False) &  (  Tweets['Pandemic']==False) &  (  Tweets['Pfizer']==False) &  (  Tweets['Pharmacy']==False) &  (  Tweets['Philippines']==False) &  (  Tweets['Podcast']==False) \n",
    "&  (  Tweets['Policy']==False) &  (  Tweets['Political']==False) &  (  Tweets['Popular']==False) &  (  Tweets['Post']==False) &  (  Tweets['press']==False) &  (  Tweets['Progress']==False) \n",
    "&  (  Tweets['Project']==False) &  (  Tweets['Public']==False) &  (  Tweets['Radio']==False) &  (  Tweets['Reporter']==False) &  (  Tweets['Republic']==False) &  (  Tweets['Reuters']==False) \n",
    "]"
   ]
  },
  {
   "cell_type": "code",
   "execution_count": 31,
   "metadata": {
    "colab": {
     "base_uri": "https://localhost:8080/"
    },
    "executionInfo": {
     "elapsed": 287,
     "status": "ok",
     "timestamp": 1619673391969,
     "user": {
      "displayName": "Vivek Kumar",
      "photoUrl": "",
      "userId": "10816717870890478108"
     },
     "user_tz": 300
    },
    "id": "_dKif-W6TLtZ",
    "outputId": "ac21e507-694b-4231-8d9d-9317571e342f"
   },
   "outputs": [
    {
     "data": {
      "text/plain": [
       "(6323, 181)"
      ]
     },
     "execution_count": 31,
     "metadata": {},
     "output_type": "execute_result"
    }
   ],
   "source": [
    "Tweets.shape"
   ]
  },
  {
   "cell_type": "code",
   "execution_count": 32,
   "metadata": {
    "executionInfo": {
     "elapsed": 6316,
     "status": "ok",
     "timestamp": 1619673404886,
     "user": {
      "displayName": "Vivek Kumar",
      "photoUrl": "",
      "userId": "10816717870890478108"
     },
     "user_tz": 300
    },
    "id": "eBUMRD_yTOmU"
   },
   "outputs": [],
   "source": [
    "Tweets = Tweets[(  Tweets['Science']==False) &  (  Tweets['Sinopharm']==False) &  (  Tweets['Sinovac']==False) &  (  Tweets['Sky']==False) &  (  Tweets['Society']==False) &  (  Tweets['Sputnik']==False) \n",
    "&  (  Tweets['Square']==False) &  (  Tweets['state']==False) &  (  Tweets['Stigma']==False) &  (  Tweets['Street']==False) &  (  Tweets['Studio']==False) &  (  Tweets['Talk']==False) \n",
    "&  (  Tweets['team']==False) &  (  Tweets['Tech']==False) &  (  Tweets['Technology']==False) &  (  Tweets['Telegram']==False) &  (  Tweets['Telegraph']==False) &  (  Tweets['times']==False) \n",
    "#&  (  Tweets['today']==False) &  (  Tweets['TOI']==False) &  (  Tweets['Top']==False) &  (  Tweets['Top10']==False) &  (  Tweets['trend']==False) &  (  Tweets['Tribune']==False) &  (  Tweets['TV']==False) \n",
    "#&  (  Tweets['Union']==False) &  (  Tweets['update']==False) &  (  Tweets['USA']==False) &  (  Tweets['vaccine']==False) &  (  Tweets['Viral']==False) &  (  Tweets['Voice']==False) \n",
    "#&  (  Tweets['Walgreens']==False) &  (  Tweets['Watch']==False) &  (  Tweets['Week1']==False) &  (  Tweets['Western']==False) &  (  Tweets['WHO']==False) &  (  Tweets['Wire']==False) \n",
    "#&  (  Tweets['world']==False) &  (  Tweets['Wuhan']==False) &  (  Tweets['Yahoo']==False) &  (  Tweets['Zone']==False) & (  Tweets['Zydus']==False)\n",
    "]"
   ]
  },
  {
   "cell_type": "code",
   "execution_count": 33,
   "metadata": {
    "colab": {
     "base_uri": "https://localhost:8080/"
    },
    "executionInfo": {
     "elapsed": 214,
     "status": "ok",
     "timestamp": 1619673409718,
     "user": {
      "displayName": "Vivek Kumar",
      "photoUrl": "",
      "userId": "10816717870890478108"
     },
     "user_tz": 300
    },
    "id": "KjbDmTH7TYep",
    "outputId": "1c4c1ff0-589c-4e85-f523-9eb9c0e20f0b"
   },
   "outputs": [
    {
     "data": {
      "text/plain": [
       "(6224, 181)"
      ]
     },
     "execution_count": 33,
     "metadata": {},
     "output_type": "execute_result"
    }
   ],
   "source": [
    "Tweets.shape"
   ]
  },
  {
   "cell_type": "code",
   "execution_count": 34,
   "metadata": {
    "executionInfo": {
     "elapsed": 6500,
     "status": "ok",
     "timestamp": 1619673419145,
     "user": {
      "displayName": "Vivek Kumar",
      "photoUrl": "",
      "userId": "10816717870890478108"
     },
     "user_tz": 300
    },
    "id": "gljCg3hvTbST"
   },
   "outputs": [],
   "source": [
    "Tweets = Tweets[\n",
    "                #(  Tweets['Science']==False) &  (  Tweets['Sinopharm']==False) &  (  Tweets['Sinovac']==False) &  (  Tweets['Sky']==False) &  (  Tweets['Society']==False) &  (  Tweets['Sputnik']==False) \n",
    "#&  (  Tweets['Square']==False) &  (  Tweets['state']==False) &  (  Tweets['Stigma']==False) &  (  Tweets['Street']==False) &  (  Tweets['Studio']==False) &  (  Tweets['Talk']==False) \n",
    "#&  (  Tweets['team']==False) &  (  Tweets['Tech']==False) &  (  Tweets['Technology']==False) &  (  Tweets['Telegram']==False) &  (  Tweets['Telegraph']==False) &  (  Tweets['times']==False) \n",
    "#&  \n",
    "(  Tweets['today']==False) &  (  Tweets['TOI']==False) &  (  Tweets['Top']==False) &  (  Tweets['Top10']==False) &  (  Tweets['trend']==False) &  (  Tweets['Tribune']==False) &  (  Tweets['TV']==False) \n",
    "&  (  Tweets['Union']==False) &  (  Tweets['update']==False) &  (  Tweets['USA']==False) &  (  Tweets['vaccine']==False) &  (  Tweets['Viral']==False) &  (  Tweets['Voice']==False) \n",
    "&  (  Tweets['Walgreens']==False) &  (  Tweets['Watch']==False) &  (  Tweets['Week1']==False) &  (  Tweets['Western']==False) &  (  Tweets['WHO']==False) &  (  Tweets['Wire']==False) \n",
    "&  (  Tweets['world']==False) &  (  Tweets['Wuhan']==False) &  (  Tweets['Yahoo']==False) &  (  Tweets['Zone']==False) & (  Tweets['Zydus']==False)\n",
    "]"
   ]
  },
  {
   "cell_type": "code",
   "execution_count": 35,
   "metadata": {
    "colab": {
     "base_uri": "https://localhost:8080/"
    },
    "executionInfo": {
     "elapsed": 277,
     "status": "ok",
     "timestamp": 1619673421152,
     "user": {
      "displayName": "Vivek Kumar",
      "photoUrl": "",
      "userId": "10816717870890478108"
     },
     "user_tz": 300
    },
    "id": "z-OQXDrTTiZk",
    "outputId": "7018ab6b-7407-4fcd-8e17-ff60e920f215"
   },
   "outputs": [
    {
     "data": {
      "text/plain": [
       "(6024, 181)"
      ]
     },
     "execution_count": 35,
     "metadata": {},
     "output_type": "execute_result"
    }
   ],
   "source": [
    "Tweets.shape"
   ]
  },
  {
   "cell_type": "code",
   "execution_count": 36,
   "metadata": {
    "id": "amYCuwoMTlqH"
   },
   "outputs": [],
   "source": [
    "#Tweets.to_csv('Individual_Tweets_4-25.csv')"
   ]
  },
  {
   "cell_type": "code",
   "execution_count": 37,
   "metadata": {
    "colab": {
     "base_uri": "https://localhost:8080/",
     "height": 491
    },
    "executionInfo": {
     "elapsed": 417,
     "status": "ok",
     "timestamp": 1619376166112,
     "user": {
      "displayName": "Vivek Kumar",
      "photoUrl": "",
      "userId": "10816717870890478108"
     },
     "user_tz": 300
    },
    "id": "PGdkOpNGVz0w",
    "outputId": "b4faced0-2894-41aa-ec2d-cdcd40067872"
   },
   "outputs": [],
   "source": [
    "#Tweets.head(5)"
   ]
  },
  {
   "cell_type": "code",
   "execution_count": 39,
   "metadata": {
    "executionInfo": {
     "elapsed": 313,
     "status": "ok",
     "timestamp": 1619673446855,
     "user": {
      "displayName": "Vivek Kumar",
      "photoUrl": "",
      "userId": "10816717870890478108"
     },
     "user_tz": 300
    },
    "id": "o7MVZZs8UzDJ"
   },
   "outputs": [],
   "source": [
    "Individual_Tweets = Tweets[['Datetime',\t'Tweet Id',\t'Username',\t'Like Count',\t'Display Name',\t'Text_lemmatized']]"
   ]
  },
  {
   "cell_type": "code",
   "execution_count": 40,
   "metadata": {
    "colab": {
     "base_uri": "https://localhost:8080/",
     "height": 419
    },
    "executionInfo": {
     "elapsed": 434,
     "status": "ok",
     "timestamp": 1619673488128,
     "user": {
      "displayName": "Vivek Kumar",
      "photoUrl": "",
      "userId": "10816717870890478108"
     },
     "user_tz": 300
    },
    "id": "OTYbtiWGEAB4",
    "outputId": "3a264517-9523-4fc1-ff3e-b9ade195adac"
   },
   "outputs": [
    {
     "data": {
      "text/html": [
       "<div>\n",
       "<style scoped>\n",
       "    .dataframe tbody tr th:only-of-type {\n",
       "        vertical-align: middle;\n",
       "    }\n",
       "\n",
       "    .dataframe tbody tr th {\n",
       "        vertical-align: top;\n",
       "    }\n",
       "\n",
       "    .dataframe thead th {\n",
       "        text-align: right;\n",
       "    }\n",
       "</style>\n",
       "<table border=\"1\" class=\"dataframe\">\n",
       "  <thead>\n",
       "    <tr style=\"text-align: right;\">\n",
       "      <th></th>\n",
       "      <th>Datetime</th>\n",
       "      <th>Tweet Id</th>\n",
       "      <th>Username</th>\n",
       "      <th>Like Count</th>\n",
       "      <th>Display Name</th>\n",
       "      <th>Text_lemmatized</th>\n",
       "    </tr>\n",
       "  </thead>\n",
       "  <tbody>\n",
       "    <tr>\n",
       "      <th>1</th>\n",
       "      <td>2021-02-27 23:59:59+00:00</td>\n",
       "      <td>1365813964320501767</td>\n",
       "      <td>seeker375</td>\n",
       "      <td>0</td>\n",
       "      <td>Matthew</td>\n",
       "      <td>['ive', 'trying', 'tweet', 'dr', 'yeadon', 'lo...</td>\n",
       "    </tr>\n",
       "    <tr>\n",
       "      <th>3</th>\n",
       "      <td>2021-02-27 23:59:58+00:00</td>\n",
       "      <td>1365813959333318656</td>\n",
       "      <td>Richard31225984</td>\n",
       "      <td>0</td>\n",
       "      <td>Demosthenies MAN / MAN</td>\n",
       "      <td>['food', 'drug', 'administration', 'authorized...</td>\n",
       "    </tr>\n",
       "    <tr>\n",
       "      <th>4</th>\n",
       "      <td>2021-02-27 23:59:57+00:00</td>\n",
       "      <td>1365813958163111938</td>\n",
       "      <td>NxtLevelPromo_</td>\n",
       "      <td>36</td>\n",
       "      <td>NxtLevelPromo</td>\n",
       "      <td>['ap', 'there', 'three', 'covid19', 'vaccine',...</td>\n",
       "    </tr>\n",
       "    <tr>\n",
       "      <th>6</th>\n",
       "      <td>2021-02-27 23:59:49+00:00</td>\n",
       "      <td>1365813925082763266</td>\n",
       "      <td>WENYNicholasP</td>\n",
       "      <td>0</td>\n",
       "      <td>Nicholas Phillips</td>\n",
       "      <td>['johnson', 'amp', 'johnson', 'covid19', 'vacc...</td>\n",
       "    </tr>\n",
       "    <tr>\n",
       "      <th>7</th>\n",
       "      <td>2021-02-27 23:59:46+00:00</td>\n",
       "      <td>1365813911208030213</td>\n",
       "      <td>xphile101</td>\n",
       "      <td>1</td>\n",
       "      <td>Michelle</td>\n",
       "      <td>['aamots20', 'likethe309', 'cousin', 'doctor',...</td>\n",
       "    </tr>\n",
       "    <tr>\n",
       "      <th>...</th>\n",
       "      <td>...</td>\n",
       "      <td>...</td>\n",
       "      <td>...</td>\n",
       "      <td>...</td>\n",
       "      <td>...</td>\n",
       "      <td>...</td>\n",
       "    </tr>\n",
       "    <tr>\n",
       "      <th>7829</th>\n",
       "      <td>2021-02-02 23:20:50+00:00</td>\n",
       "      <td>1356744417005232129</td>\n",
       "      <td>Musex58475389</td>\n",
       "      <td>0</td>\n",
       "      <td>Musex</td>\n",
       "      <td>['new', 'interview', 'abc', 'news', 'simone', ...</td>\n",
       "    </tr>\n",
       "    <tr>\n",
       "      <th>7833</th>\n",
       "      <td>2021-02-02 23:20:35+00:00</td>\n",
       "      <td>1356744353969012736</td>\n",
       "      <td>Caiishgauhd</td>\n",
       "      <td>0</td>\n",
       "      <td>Caii$h Gauhd</td>\n",
       "      <td>['msnbc', 'drchrismd', 'part', 'covid', 'tuske...</td>\n",
       "    </tr>\n",
       "    <tr>\n",
       "      <th>7834</th>\n",
       "      <td>2021-02-02 23:20:34+00:00</td>\n",
       "      <td>1356744350391296005</td>\n",
       "      <td>Secureinaustin</td>\n",
       "      <td>0</td>\n",
       "      <td>C Stewart</td>\n",
       "      <td>['dallas', 'doctor', 'stunned', 'dozen', 'got'...</td>\n",
       "    </tr>\n",
       "    <tr>\n",
       "      <th>7835</th>\n",
       "      <td>2021-02-02 23:20:33+00:00</td>\n",
       "      <td>1356744344884023297</td>\n",
       "      <td>it_exposing</td>\n",
       "      <td>0</td>\n",
       "      <td>Exposing It All</td>\n",
       "      <td>['ive', 'tracking', 'reaction', 'look', 'page'...</td>\n",
       "    </tr>\n",
       "    <tr>\n",
       "      <th>7838</th>\n",
       "      <td>2021-02-02 23:20:31+00:00</td>\n",
       "      <td>1356744334612324354</td>\n",
       "      <td>Jmanassa</td>\n",
       "      <td>0</td>\n",
       "      <td>Jordan Shearer</td>\n",
       "      <td>['highlight', 'agenda', 'tonight', 'include', ...</td>\n",
       "    </tr>\n",
       "  </tbody>\n",
       "</table>\n",
       "<p>6024 rows × 6 columns</p>\n",
       "</div>"
      ],
      "text/plain": [
       "                       Datetime             Tweet Id         Username  \\\n",
       "1     2021-02-27 23:59:59+00:00  1365813964320501767        seeker375   \n",
       "3     2021-02-27 23:59:58+00:00  1365813959333318656  Richard31225984   \n",
       "4     2021-02-27 23:59:57+00:00  1365813958163111938   NxtLevelPromo_   \n",
       "6     2021-02-27 23:59:49+00:00  1365813925082763266    WENYNicholasP   \n",
       "7     2021-02-27 23:59:46+00:00  1365813911208030213        xphile101   \n",
       "...                         ...                  ...              ...   \n",
       "7829  2021-02-02 23:20:50+00:00  1356744417005232129    Musex58475389   \n",
       "7833  2021-02-02 23:20:35+00:00  1356744353969012736      Caiishgauhd   \n",
       "7834  2021-02-02 23:20:34+00:00  1356744350391296005   Secureinaustin   \n",
       "7835  2021-02-02 23:20:33+00:00  1356744344884023297      it_exposing   \n",
       "7838  2021-02-02 23:20:31+00:00  1356744334612324354         Jmanassa   \n",
       "\n",
       "      Like Count            Display Name  \\\n",
       "1              0                 Matthew   \n",
       "3              0  Demosthenies MAN / MAN   \n",
       "4             36           NxtLevelPromo   \n",
       "6              0       Nicholas Phillips   \n",
       "7              1                Michelle   \n",
       "...          ...                     ...   \n",
       "7829           0                   Musex   \n",
       "7833           0            Caii$h Gauhd   \n",
       "7834           0               C Stewart   \n",
       "7835           0         Exposing It All   \n",
       "7838           0          Jordan Shearer   \n",
       "\n",
       "                                        Text_lemmatized  \n",
       "1     ['ive', 'trying', 'tweet', 'dr', 'yeadon', 'lo...  \n",
       "3     ['food', 'drug', 'administration', 'authorized...  \n",
       "4     ['ap', 'there', 'three', 'covid19', 'vaccine',...  \n",
       "6     ['johnson', 'amp', 'johnson', 'covid19', 'vacc...  \n",
       "7     ['aamots20', 'likethe309', 'cousin', 'doctor',...  \n",
       "...                                                 ...  \n",
       "7829  ['new', 'interview', 'abc', 'news', 'simone', ...  \n",
       "7833  ['msnbc', 'drchrismd', 'part', 'covid', 'tuske...  \n",
       "7834  ['dallas', 'doctor', 'stunned', 'dozen', 'got'...  \n",
       "7835  ['ive', 'tracking', 'reaction', 'look', 'page'...  \n",
       "7838  ['highlight', 'agenda', 'tonight', 'include', ...  \n",
       "\n",
       "[6024 rows x 6 columns]"
      ]
     },
     "execution_count": 40,
     "metadata": {},
     "output_type": "execute_result"
    }
   ],
   "source": [
    "Individual_Tweets"
   ]
  },
  {
   "cell_type": "code",
   "execution_count": 41,
   "metadata": {
    "executionInfo": {
     "elapsed": 19635,
     "status": "ok",
     "timestamp": 1619673527276,
     "user": {
      "displayName": "Vivek Kumar",
      "photoUrl": "",
      "userId": "10816717870890478108"
     },
     "user_tz": 300
    },
    "id": "JuAaSo3EWEke"
   },
   "outputs": [],
   "source": [
    "Individual_Tweets.to_csv('Individual_Tweets_4-29.csv', index=False)"
   ]
  },
  {
   "cell_type": "code",
   "execution_count": 42,
   "metadata": {
    "colab": {
     "base_uri": "https://localhost:8080/"
    },
    "executionInfo": {
     "elapsed": 840,
     "status": "ok",
     "timestamp": 1619673651356,
     "user": {
      "displayName": "Vivek Kumar",
      "photoUrl": "",
      "userId": "10816717870890478108"
     },
     "user_tz": 300
    },
    "id": "zU4P-Y80WYTq",
    "outputId": "98b26020-9db4-4204-84b2-2e954d9fb60a"
   },
   "outputs": [
    {
     "name": "stderr",
     "output_type": "stream",
     "text": [
      "<ipython-input-42-5324744e58f9>:1: SettingWithCopyWarning: \n",
      "A value is trying to be set on a copy of a slice from a DataFrame.\n",
      "Try using .loc[row_indexer,col_indexer] = value instead\n",
      "\n",
      "See the caveats in the documentation: https://pandas.pydata.org/pandas-docs/stable/user_guide/indexing.html#returning-a-view-versus-a-copy\n",
      "  Individual_Tweets['Datetime'] = pd.to_datetime(Individual_Tweets['Datetime'])\n"
     ]
    }
   ],
   "source": [
    "Individual_Tweets['Datetime'] = pd.to_datetime(Individual_Tweets['Datetime'])"
   ]
  },
  {
   "cell_type": "code",
   "execution_count": 43,
   "metadata": {
    "colab": {
     "base_uri": "https://localhost:8080/",
     "height": 419
    },
    "executionInfo": {
     "elapsed": 341,
     "status": "ok",
     "timestamp": 1619673677904,
     "user": {
      "displayName": "Vivek Kumar",
      "photoUrl": "",
      "userId": "10816717870890478108"
     },
     "user_tz": 300
    },
    "id": "Y5WbkClmEuoa",
    "outputId": "daaed508-1c26-488c-bb10-b9b2d7dde7b7"
   },
   "outputs": [
    {
     "data": {
      "text/html": [
       "<div>\n",
       "<style scoped>\n",
       "    .dataframe tbody tr th:only-of-type {\n",
       "        vertical-align: middle;\n",
       "    }\n",
       "\n",
       "    .dataframe tbody tr th {\n",
       "        vertical-align: top;\n",
       "    }\n",
       "\n",
       "    .dataframe thead th {\n",
       "        text-align: right;\n",
       "    }\n",
       "</style>\n",
       "<table border=\"1\" class=\"dataframe\">\n",
       "  <thead>\n",
       "    <tr style=\"text-align: right;\">\n",
       "      <th></th>\n",
       "      <th>Datetime</th>\n",
       "      <th>Tweet Id</th>\n",
       "      <th>Username</th>\n",
       "      <th>Like Count</th>\n",
       "      <th>Display Name</th>\n",
       "      <th>Text_lemmatized</th>\n",
       "    </tr>\n",
       "  </thead>\n",
       "  <tbody>\n",
       "    <tr>\n",
       "      <th>1</th>\n",
       "      <td>2021-02-27 23:59:59+00:00</td>\n",
       "      <td>1365813964320501767</td>\n",
       "      <td>seeker375</td>\n",
       "      <td>0</td>\n",
       "      <td>Matthew</td>\n",
       "      <td>['ive', 'trying', 'tweet', 'dr', 'yeadon', 'lo...</td>\n",
       "    </tr>\n",
       "    <tr>\n",
       "      <th>3</th>\n",
       "      <td>2021-02-27 23:59:58+00:00</td>\n",
       "      <td>1365813959333318656</td>\n",
       "      <td>Richard31225984</td>\n",
       "      <td>0</td>\n",
       "      <td>Demosthenies MAN / MAN</td>\n",
       "      <td>['food', 'drug', 'administration', 'authorized...</td>\n",
       "    </tr>\n",
       "    <tr>\n",
       "      <th>4</th>\n",
       "      <td>2021-02-27 23:59:57+00:00</td>\n",
       "      <td>1365813958163111938</td>\n",
       "      <td>NxtLevelPromo_</td>\n",
       "      <td>36</td>\n",
       "      <td>NxtLevelPromo</td>\n",
       "      <td>['ap', 'there', 'three', 'covid19', 'vaccine',...</td>\n",
       "    </tr>\n",
       "    <tr>\n",
       "      <th>6</th>\n",
       "      <td>2021-02-27 23:59:49+00:00</td>\n",
       "      <td>1365813925082763266</td>\n",
       "      <td>WENYNicholasP</td>\n",
       "      <td>0</td>\n",
       "      <td>Nicholas Phillips</td>\n",
       "      <td>['johnson', 'amp', 'johnson', 'covid19', 'vacc...</td>\n",
       "    </tr>\n",
       "    <tr>\n",
       "      <th>7</th>\n",
       "      <td>2021-02-27 23:59:46+00:00</td>\n",
       "      <td>1365813911208030213</td>\n",
       "      <td>xphile101</td>\n",
       "      <td>1</td>\n",
       "      <td>Michelle</td>\n",
       "      <td>['aamots20', 'likethe309', 'cousin', 'doctor',...</td>\n",
       "    </tr>\n",
       "    <tr>\n",
       "      <th>...</th>\n",
       "      <td>...</td>\n",
       "      <td>...</td>\n",
       "      <td>...</td>\n",
       "      <td>...</td>\n",
       "      <td>...</td>\n",
       "      <td>...</td>\n",
       "    </tr>\n",
       "    <tr>\n",
       "      <th>7829</th>\n",
       "      <td>2021-02-02 23:20:50+00:00</td>\n",
       "      <td>1356744417005232129</td>\n",
       "      <td>Musex58475389</td>\n",
       "      <td>0</td>\n",
       "      <td>Musex</td>\n",
       "      <td>['new', 'interview', 'abc', 'news', 'simone', ...</td>\n",
       "    </tr>\n",
       "    <tr>\n",
       "      <th>7833</th>\n",
       "      <td>2021-02-02 23:20:35+00:00</td>\n",
       "      <td>1356744353969012736</td>\n",
       "      <td>Caiishgauhd</td>\n",
       "      <td>0</td>\n",
       "      <td>Caii$h Gauhd</td>\n",
       "      <td>['msnbc', 'drchrismd', 'part', 'covid', 'tuske...</td>\n",
       "    </tr>\n",
       "    <tr>\n",
       "      <th>7834</th>\n",
       "      <td>2021-02-02 23:20:34+00:00</td>\n",
       "      <td>1356744350391296005</td>\n",
       "      <td>Secureinaustin</td>\n",
       "      <td>0</td>\n",
       "      <td>C Stewart</td>\n",
       "      <td>['dallas', 'doctor', 'stunned', 'dozen', 'got'...</td>\n",
       "    </tr>\n",
       "    <tr>\n",
       "      <th>7835</th>\n",
       "      <td>2021-02-02 23:20:33+00:00</td>\n",
       "      <td>1356744344884023297</td>\n",
       "      <td>it_exposing</td>\n",
       "      <td>0</td>\n",
       "      <td>Exposing It All</td>\n",
       "      <td>['ive', 'tracking', 'reaction', 'look', 'page'...</td>\n",
       "    </tr>\n",
       "    <tr>\n",
       "      <th>7838</th>\n",
       "      <td>2021-02-02 23:20:31+00:00</td>\n",
       "      <td>1356744334612324354</td>\n",
       "      <td>Jmanassa</td>\n",
       "      <td>0</td>\n",
       "      <td>Jordan Shearer</td>\n",
       "      <td>['highlight', 'agenda', 'tonight', 'include', ...</td>\n",
       "    </tr>\n",
       "  </tbody>\n",
       "</table>\n",
       "<p>6024 rows × 6 columns</p>\n",
       "</div>"
      ],
      "text/plain": [
       "                      Datetime             Tweet Id         Username  \\\n",
       "1    2021-02-27 23:59:59+00:00  1365813964320501767        seeker375   \n",
       "3    2021-02-27 23:59:58+00:00  1365813959333318656  Richard31225984   \n",
       "4    2021-02-27 23:59:57+00:00  1365813958163111938   NxtLevelPromo_   \n",
       "6    2021-02-27 23:59:49+00:00  1365813925082763266    WENYNicholasP   \n",
       "7    2021-02-27 23:59:46+00:00  1365813911208030213        xphile101   \n",
       "...                        ...                  ...              ...   \n",
       "7829 2021-02-02 23:20:50+00:00  1356744417005232129    Musex58475389   \n",
       "7833 2021-02-02 23:20:35+00:00  1356744353969012736      Caiishgauhd   \n",
       "7834 2021-02-02 23:20:34+00:00  1356744350391296005   Secureinaustin   \n",
       "7835 2021-02-02 23:20:33+00:00  1356744344884023297      it_exposing   \n",
       "7838 2021-02-02 23:20:31+00:00  1356744334612324354         Jmanassa   \n",
       "\n",
       "      Like Count            Display Name  \\\n",
       "1              0                 Matthew   \n",
       "3              0  Demosthenies MAN / MAN   \n",
       "4             36           NxtLevelPromo   \n",
       "6              0       Nicholas Phillips   \n",
       "7              1                Michelle   \n",
       "...          ...                     ...   \n",
       "7829           0                   Musex   \n",
       "7833           0            Caii$h Gauhd   \n",
       "7834           0               C Stewart   \n",
       "7835           0         Exposing It All   \n",
       "7838           0          Jordan Shearer   \n",
       "\n",
       "                                        Text_lemmatized  \n",
       "1     ['ive', 'trying', 'tweet', 'dr', 'yeadon', 'lo...  \n",
       "3     ['food', 'drug', 'administration', 'authorized...  \n",
       "4     ['ap', 'there', 'three', 'covid19', 'vaccine',...  \n",
       "6     ['johnson', 'amp', 'johnson', 'covid19', 'vacc...  \n",
       "7     ['aamots20', 'likethe309', 'cousin', 'doctor',...  \n",
       "...                                                 ...  \n",
       "7829  ['new', 'interview', 'abc', 'news', 'simone', ...  \n",
       "7833  ['msnbc', 'drchrismd', 'part', 'covid', 'tuske...  \n",
       "7834  ['dallas', 'doctor', 'stunned', 'dozen', 'got'...  \n",
       "7835  ['ive', 'tracking', 'reaction', 'look', 'page'...  \n",
       "7838  ['highlight', 'agenda', 'tonight', 'include', ...  \n",
       "\n",
       "[6024 rows x 6 columns]"
      ]
     },
     "execution_count": 43,
     "metadata": {},
     "output_type": "execute_result"
    }
   ],
   "source": [
    "Individual_Tweets"
   ]
  },
  {
   "cell_type": "code",
   "execution_count": 44,
   "metadata": {
    "colab": {
     "base_uri": "https://localhost:8080/"
    },
    "executionInfo": {
     "elapsed": 657,
     "status": "ok",
     "timestamp": 1619673703279,
     "user": {
      "displayName": "Vivek Kumar",
      "photoUrl": "",
      "userId": "10816717870890478108"
     },
     "user_tz": 300
    },
    "id": "6losTjuzEpUS",
    "outputId": "ca4ae0e0-9f25-4129-fd9c-5cbbe63fadce"
   },
   "outputs": [
    {
     "name": "stderr",
     "output_type": "stream",
     "text": [
      "<ipython-input-44-904d1e01306d>:1: SettingWithCopyWarning: \n",
      "A value is trying to be set on a copy of a slice from a DataFrame\n",
      "\n",
      "See the caveats in the documentation: https://pandas.pydata.org/pandas-docs/stable/user_guide/indexing.html#returning-a-view-versus-a-copy\n",
      "  Individual_Tweets.sort_values(by=['Datetime'], inplace=True)\n"
     ]
    }
   ],
   "source": [
    "Individual_Tweets.sort_values(by=['Datetime'], inplace=True)"
   ]
  },
  {
   "cell_type": "code",
   "execution_count": 45,
   "metadata": {
    "colab": {
     "base_uri": "https://localhost:8080/",
     "height": 419
    },
    "executionInfo": {
     "elapsed": 329,
     "status": "ok",
     "timestamp": 1619673708895,
     "user": {
      "displayName": "Vivek Kumar",
      "photoUrl": "",
      "userId": "10816717870890478108"
     },
     "user_tz": 300
    },
    "id": "cbKXPGu9EyWF",
    "outputId": "ed76ad36-2ab2-4ce4-88e9-9cd8391b5359"
   },
   "outputs": [
    {
     "data": {
      "text/html": [
       "<div>\n",
       "<style scoped>\n",
       "    .dataframe tbody tr th:only-of-type {\n",
       "        vertical-align: middle;\n",
       "    }\n",
       "\n",
       "    .dataframe tbody tr th {\n",
       "        vertical-align: top;\n",
       "    }\n",
       "\n",
       "    .dataframe thead th {\n",
       "        text-align: right;\n",
       "    }\n",
       "</style>\n",
       "<table border=\"1\" class=\"dataframe\">\n",
       "  <thead>\n",
       "    <tr style=\"text-align: right;\">\n",
       "      <th></th>\n",
       "      <th>Datetime</th>\n",
       "      <th>Tweet Id</th>\n",
       "      <th>Username</th>\n",
       "      <th>Like Count</th>\n",
       "      <th>Display Name</th>\n",
       "      <th>Text_lemmatized</th>\n",
       "    </tr>\n",
       "  </thead>\n",
       "  <tbody>\n",
       "    <tr>\n",
       "      <th>7838</th>\n",
       "      <td>2021-02-02 23:20:31+00:00</td>\n",
       "      <td>1356744334612324354</td>\n",
       "      <td>Jmanassa</td>\n",
       "      <td>0</td>\n",
       "      <td>Jordan Shearer</td>\n",
       "      <td>['highlight', 'agenda', 'tonight', 'include', ...</td>\n",
       "    </tr>\n",
       "    <tr>\n",
       "      <th>7835</th>\n",
       "      <td>2021-02-02 23:20:33+00:00</td>\n",
       "      <td>1356744344884023297</td>\n",
       "      <td>it_exposing</td>\n",
       "      <td>0</td>\n",
       "      <td>Exposing It All</td>\n",
       "      <td>['ive', 'tracking', 'reaction', 'look', 'page'...</td>\n",
       "    </tr>\n",
       "    <tr>\n",
       "      <th>7834</th>\n",
       "      <td>2021-02-02 23:20:34+00:00</td>\n",
       "      <td>1356744350391296005</td>\n",
       "      <td>Secureinaustin</td>\n",
       "      <td>0</td>\n",
       "      <td>C Stewart</td>\n",
       "      <td>['dallas', 'doctor', 'stunned', 'dozen', 'got'...</td>\n",
       "    </tr>\n",
       "    <tr>\n",
       "      <th>7833</th>\n",
       "      <td>2021-02-02 23:20:35+00:00</td>\n",
       "      <td>1356744353969012736</td>\n",
       "      <td>Caiishgauhd</td>\n",
       "      <td>0</td>\n",
       "      <td>Caii$h Gauhd</td>\n",
       "      <td>['msnbc', 'drchrismd', 'part', 'covid', 'tuske...</td>\n",
       "    </tr>\n",
       "    <tr>\n",
       "      <th>7829</th>\n",
       "      <td>2021-02-02 23:20:50+00:00</td>\n",
       "      <td>1356744417005232129</td>\n",
       "      <td>Musex58475389</td>\n",
       "      <td>0</td>\n",
       "      <td>Musex</td>\n",
       "      <td>['new', 'interview', 'abc', 'news', 'simone', ...</td>\n",
       "    </tr>\n",
       "    <tr>\n",
       "      <th>...</th>\n",
       "      <td>...</td>\n",
       "      <td>...</td>\n",
       "      <td>...</td>\n",
       "      <td>...</td>\n",
       "      <td>...</td>\n",
       "      <td>...</td>\n",
       "    </tr>\n",
       "    <tr>\n",
       "      <th>7</th>\n",
       "      <td>2021-02-27 23:59:46+00:00</td>\n",
       "      <td>1365813911208030213</td>\n",
       "      <td>xphile101</td>\n",
       "      <td>1</td>\n",
       "      <td>Michelle</td>\n",
       "      <td>['aamots20', 'likethe309', 'cousin', 'doctor',...</td>\n",
       "    </tr>\n",
       "    <tr>\n",
       "      <th>6</th>\n",
       "      <td>2021-02-27 23:59:49+00:00</td>\n",
       "      <td>1365813925082763266</td>\n",
       "      <td>WENYNicholasP</td>\n",
       "      <td>0</td>\n",
       "      <td>Nicholas Phillips</td>\n",
       "      <td>['johnson', 'amp', 'johnson', 'covid19', 'vacc...</td>\n",
       "    </tr>\n",
       "    <tr>\n",
       "      <th>4</th>\n",
       "      <td>2021-02-27 23:59:57+00:00</td>\n",
       "      <td>1365813958163111938</td>\n",
       "      <td>NxtLevelPromo_</td>\n",
       "      <td>36</td>\n",
       "      <td>NxtLevelPromo</td>\n",
       "      <td>['ap', 'there', 'three', 'covid19', 'vaccine',...</td>\n",
       "    </tr>\n",
       "    <tr>\n",
       "      <th>3</th>\n",
       "      <td>2021-02-27 23:59:58+00:00</td>\n",
       "      <td>1365813959333318656</td>\n",
       "      <td>Richard31225984</td>\n",
       "      <td>0</td>\n",
       "      <td>Demosthenies MAN / MAN</td>\n",
       "      <td>['food', 'drug', 'administration', 'authorized...</td>\n",
       "    </tr>\n",
       "    <tr>\n",
       "      <th>1</th>\n",
       "      <td>2021-02-27 23:59:59+00:00</td>\n",
       "      <td>1365813964320501767</td>\n",
       "      <td>seeker375</td>\n",
       "      <td>0</td>\n",
       "      <td>Matthew</td>\n",
       "      <td>['ive', 'trying', 'tweet', 'dr', 'yeadon', 'lo...</td>\n",
       "    </tr>\n",
       "  </tbody>\n",
       "</table>\n",
       "<p>6024 rows × 6 columns</p>\n",
       "</div>"
      ],
      "text/plain": [
       "                      Datetime             Tweet Id         Username  \\\n",
       "7838 2021-02-02 23:20:31+00:00  1356744334612324354         Jmanassa   \n",
       "7835 2021-02-02 23:20:33+00:00  1356744344884023297      it_exposing   \n",
       "7834 2021-02-02 23:20:34+00:00  1356744350391296005   Secureinaustin   \n",
       "7833 2021-02-02 23:20:35+00:00  1356744353969012736      Caiishgauhd   \n",
       "7829 2021-02-02 23:20:50+00:00  1356744417005232129    Musex58475389   \n",
       "...                        ...                  ...              ...   \n",
       "7    2021-02-27 23:59:46+00:00  1365813911208030213        xphile101   \n",
       "6    2021-02-27 23:59:49+00:00  1365813925082763266    WENYNicholasP   \n",
       "4    2021-02-27 23:59:57+00:00  1365813958163111938   NxtLevelPromo_   \n",
       "3    2021-02-27 23:59:58+00:00  1365813959333318656  Richard31225984   \n",
       "1    2021-02-27 23:59:59+00:00  1365813964320501767        seeker375   \n",
       "\n",
       "      Like Count            Display Name  \\\n",
       "7838           0          Jordan Shearer   \n",
       "7835           0         Exposing It All   \n",
       "7834           0               C Stewart   \n",
       "7833           0            Caii$h Gauhd   \n",
       "7829           0                   Musex   \n",
       "...          ...                     ...   \n",
       "7              1                Michelle   \n",
       "6              0       Nicholas Phillips   \n",
       "4             36           NxtLevelPromo   \n",
       "3              0  Demosthenies MAN / MAN   \n",
       "1              0                 Matthew   \n",
       "\n",
       "                                        Text_lemmatized  \n",
       "7838  ['highlight', 'agenda', 'tonight', 'include', ...  \n",
       "7835  ['ive', 'tracking', 'reaction', 'look', 'page'...  \n",
       "7834  ['dallas', 'doctor', 'stunned', 'dozen', 'got'...  \n",
       "7833  ['msnbc', 'drchrismd', 'part', 'covid', 'tuske...  \n",
       "7829  ['new', 'interview', 'abc', 'news', 'simone', ...  \n",
       "...                                                 ...  \n",
       "7     ['aamots20', 'likethe309', 'cousin', 'doctor',...  \n",
       "6     ['johnson', 'amp', 'johnson', 'covid19', 'vacc...  \n",
       "4     ['ap', 'there', 'three', 'covid19', 'vaccine',...  \n",
       "3     ['food', 'drug', 'administration', 'authorized...  \n",
       "1     ['ive', 'trying', 'tweet', 'dr', 'yeadon', 'lo...  \n",
       "\n",
       "[6024 rows x 6 columns]"
      ]
     },
     "execution_count": 45,
     "metadata": {},
     "output_type": "execute_result"
    }
   ],
   "source": [
    "Individual_Tweets"
   ]
  },
  {
   "cell_type": "code",
   "execution_count": 46,
   "metadata": {
    "colab": {
     "base_uri": "https://localhost:8080/"
    },
    "executionInfo": {
     "elapsed": 203,
     "status": "ok",
     "timestamp": 1619673896345,
     "user": {
      "displayName": "Vivek Kumar",
      "photoUrl": "",
      "userId": "10816717870890478108"
     },
     "user_tz": 300
    },
    "id": "U8WBgkcYFWGL",
    "outputId": "89979614-f1cb-4420-8aa3-efc084493747"
   },
   "outputs": [
    {
     "ename": "KeyError",
     "evalue": "'Week'",
     "output_type": "error",
     "traceback": [
      "\u001b[0;31m---------------------------------------------------------------------------\u001b[0m",
      "\u001b[0;31mKeyError\u001b[0m                                  Traceback (most recent call last)",
      "\u001b[0;32m~/opt/anaconda3/lib/python3.8/site-packages/pandas/core/indexes/base.py\u001b[0m in \u001b[0;36mget_loc\u001b[0;34m(self, key, method, tolerance)\u001b[0m\n\u001b[1;32m   3079\u001b[0m             \u001b[0;32mtry\u001b[0m\u001b[0;34m:\u001b[0m\u001b[0;34m\u001b[0m\u001b[0;34m\u001b[0m\u001b[0m\n\u001b[0;32m-> 3080\u001b[0;31m                 \u001b[0;32mreturn\u001b[0m \u001b[0mself\u001b[0m\u001b[0;34m.\u001b[0m\u001b[0m_engine\u001b[0m\u001b[0;34m.\u001b[0m\u001b[0mget_loc\u001b[0m\u001b[0;34m(\u001b[0m\u001b[0mcasted_key\u001b[0m\u001b[0;34m)\u001b[0m\u001b[0;34m\u001b[0m\u001b[0;34m\u001b[0m\u001b[0m\n\u001b[0m\u001b[1;32m   3081\u001b[0m             \u001b[0;32mexcept\u001b[0m \u001b[0mKeyError\u001b[0m \u001b[0;32mas\u001b[0m \u001b[0merr\u001b[0m\u001b[0;34m:\u001b[0m\u001b[0;34m\u001b[0m\u001b[0;34m\u001b[0m\u001b[0m\n",
      "\u001b[0;32mpandas/_libs/index.pyx\u001b[0m in \u001b[0;36mpandas._libs.index.IndexEngine.get_loc\u001b[0;34m()\u001b[0m\n",
      "\u001b[0;32mpandas/_libs/index.pyx\u001b[0m in \u001b[0;36mpandas._libs.index.IndexEngine.get_loc\u001b[0;34m()\u001b[0m\n",
      "\u001b[0;32mpandas/_libs/hashtable_class_helper.pxi\u001b[0m in \u001b[0;36mpandas._libs.hashtable.PyObjectHashTable.get_item\u001b[0;34m()\u001b[0m\n",
      "\u001b[0;32mpandas/_libs/hashtable_class_helper.pxi\u001b[0m in \u001b[0;36mpandas._libs.hashtable.PyObjectHashTable.get_item\u001b[0;34m()\u001b[0m\n",
      "\u001b[0;31mKeyError\u001b[0m: 'Week'",
      "\nThe above exception was the direct cause of the following exception:\n",
      "\u001b[0;31mKeyError\u001b[0m                                  Traceback (most recent call last)",
      "\u001b[0;32m<ipython-input-46-05ca64cedc1a>\u001b[0m in \u001b[0;36m<module>\u001b[0;34m\u001b[0m\n\u001b[0;32m----> 1\u001b[0;31m \u001b[0mIndividual_Tweets\u001b[0m\u001b[0;34m[\u001b[0m\u001b[0;34m'Week'\u001b[0m\u001b[0;34m]\u001b[0m\u001b[0;34m.\u001b[0m\u001b[0mvalue_counts\u001b[0m\u001b[0;34m(\u001b[0m\u001b[0;34m)\u001b[0m\u001b[0;34m.\u001b[0m\u001b[0msort_index\u001b[0m\u001b[0;34m(\u001b[0m\u001b[0;34m)\u001b[0m\u001b[0;34m\u001b[0m\u001b[0;34m\u001b[0m\u001b[0m\n\u001b[0m",
      "\u001b[0;32m~/opt/anaconda3/lib/python3.8/site-packages/pandas/core/frame.py\u001b[0m in \u001b[0;36m__getitem__\u001b[0;34m(self, key)\u001b[0m\n\u001b[1;32m   3022\u001b[0m             \u001b[0;32mif\u001b[0m \u001b[0mself\u001b[0m\u001b[0;34m.\u001b[0m\u001b[0mcolumns\u001b[0m\u001b[0;34m.\u001b[0m\u001b[0mnlevels\u001b[0m \u001b[0;34m>\u001b[0m \u001b[0;36m1\u001b[0m\u001b[0;34m:\u001b[0m\u001b[0;34m\u001b[0m\u001b[0;34m\u001b[0m\u001b[0m\n\u001b[1;32m   3023\u001b[0m                 \u001b[0;32mreturn\u001b[0m \u001b[0mself\u001b[0m\u001b[0;34m.\u001b[0m\u001b[0m_getitem_multilevel\u001b[0m\u001b[0;34m(\u001b[0m\u001b[0mkey\u001b[0m\u001b[0;34m)\u001b[0m\u001b[0;34m\u001b[0m\u001b[0;34m\u001b[0m\u001b[0m\n\u001b[0;32m-> 3024\u001b[0;31m             \u001b[0mindexer\u001b[0m \u001b[0;34m=\u001b[0m \u001b[0mself\u001b[0m\u001b[0;34m.\u001b[0m\u001b[0mcolumns\u001b[0m\u001b[0;34m.\u001b[0m\u001b[0mget_loc\u001b[0m\u001b[0;34m(\u001b[0m\u001b[0mkey\u001b[0m\u001b[0;34m)\u001b[0m\u001b[0;34m\u001b[0m\u001b[0;34m\u001b[0m\u001b[0m\n\u001b[0m\u001b[1;32m   3025\u001b[0m             \u001b[0;32mif\u001b[0m \u001b[0mis_integer\u001b[0m\u001b[0;34m(\u001b[0m\u001b[0mindexer\u001b[0m\u001b[0;34m)\u001b[0m\u001b[0;34m:\u001b[0m\u001b[0;34m\u001b[0m\u001b[0;34m\u001b[0m\u001b[0m\n\u001b[1;32m   3026\u001b[0m                 \u001b[0mindexer\u001b[0m \u001b[0;34m=\u001b[0m \u001b[0;34m[\u001b[0m\u001b[0mindexer\u001b[0m\u001b[0;34m]\u001b[0m\u001b[0;34m\u001b[0m\u001b[0;34m\u001b[0m\u001b[0m\n",
      "\u001b[0;32m~/opt/anaconda3/lib/python3.8/site-packages/pandas/core/indexes/base.py\u001b[0m in \u001b[0;36mget_loc\u001b[0;34m(self, key, method, tolerance)\u001b[0m\n\u001b[1;32m   3080\u001b[0m                 \u001b[0;32mreturn\u001b[0m \u001b[0mself\u001b[0m\u001b[0;34m.\u001b[0m\u001b[0m_engine\u001b[0m\u001b[0;34m.\u001b[0m\u001b[0mget_loc\u001b[0m\u001b[0;34m(\u001b[0m\u001b[0mcasted_key\u001b[0m\u001b[0;34m)\u001b[0m\u001b[0;34m\u001b[0m\u001b[0;34m\u001b[0m\u001b[0m\n\u001b[1;32m   3081\u001b[0m             \u001b[0;32mexcept\u001b[0m \u001b[0mKeyError\u001b[0m \u001b[0;32mas\u001b[0m \u001b[0merr\u001b[0m\u001b[0;34m:\u001b[0m\u001b[0;34m\u001b[0m\u001b[0;34m\u001b[0m\u001b[0m\n\u001b[0;32m-> 3082\u001b[0;31m                 \u001b[0;32mraise\u001b[0m \u001b[0mKeyError\u001b[0m\u001b[0;34m(\u001b[0m\u001b[0mkey\u001b[0m\u001b[0;34m)\u001b[0m \u001b[0;32mfrom\u001b[0m \u001b[0merr\u001b[0m\u001b[0;34m\u001b[0m\u001b[0;34m\u001b[0m\u001b[0m\n\u001b[0m\u001b[1;32m   3083\u001b[0m \u001b[0;34m\u001b[0m\u001b[0m\n\u001b[1;32m   3084\u001b[0m         \u001b[0;32mif\u001b[0m \u001b[0mtolerance\u001b[0m \u001b[0;32mis\u001b[0m \u001b[0;32mnot\u001b[0m \u001b[0;32mNone\u001b[0m\u001b[0;34m:\u001b[0m\u001b[0;34m\u001b[0m\u001b[0;34m\u001b[0m\u001b[0m\n",
      "\u001b[0;31mKeyError\u001b[0m: 'Week'"
     ]
    }
   ],
   "source": [
    "Individual_Tweets['Week'].value_counts().sort_index()"
   ]
  },
  {
   "cell_type": "code",
   "execution_count": 47,
   "metadata": {
    "executionInfo": {
     "elapsed": 29776,
     "status": "ok",
     "timestamp": 1619673813245,
     "user": {
      "displayName": "Vivek Kumar",
      "photoUrl": "",
      "userId": "10816717870890478108"
     },
     "user_tz": 300
    },
    "id": "uNKI3io4E3fx"
   },
   "outputs": [],
   "source": [
    "Individual_Tweets.to_csv('Individual_Tweets_4-29-Final.csv', index=False)"
   ]
  },
  {
   "cell_type": "code",
   "execution_count": null,
   "metadata": {},
   "outputs": [],
   "source": []
  },
  {
   "cell_type": "code",
   "execution_count": null,
   "metadata": {},
   "outputs": [],
   "source": []
  }
 ],
 "metadata": {
  "colab": {
   "authorship_tag": "ABX9TyOoT5wzEzaEQphRNtQiUCaV",
   "collapsed_sections": [],
   "mount_file_id": "1Y-ch3ZNdu-WaGkAXvusYkffu8wxg_Td2",
   "name": "Individuals vs Businesses(Part2).ipynb.ipynb",
   "provenance": []
  },
  "kernelspec": {
   "display_name": "Python 3",
   "language": "python",
   "name": "python3"
  },
  "language_info": {
   "codemirror_mode": {
    "name": "ipython",
    "version": 3
   },
   "file_extension": ".py",
   "mimetype": "text/x-python",
   "name": "python",
   "nbconvert_exporter": "python",
   "pygments_lexer": "ipython3",
   "version": "3.8.8"
  }
 },
 "nbformat": 4,
 "nbformat_minor": 1
}
