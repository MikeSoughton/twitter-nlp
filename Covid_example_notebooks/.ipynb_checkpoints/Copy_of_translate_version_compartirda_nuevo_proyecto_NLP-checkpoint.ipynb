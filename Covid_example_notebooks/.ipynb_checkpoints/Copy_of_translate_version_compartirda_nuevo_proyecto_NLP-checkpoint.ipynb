{
 "cells": [
  {
   "cell_type": "code",
   "execution_count": null,
   "metadata": {
    "colab": {
     "background_save": true
    },
    "id": "s6WYD7aD96PD"
   },
   "outputs": [
    {
     "name": "stdout",
     "output_type": "stream",
     "text": [
      "Mounted at /content/drive\n"
     ]
    }
   ],
   "source": [
    "from google.colab import drive\n",
    "drive.mount('/content/drive', force_remount=True)\n"
   ]
  },
  {
   "cell_type": "code",
   "execution_count": null,
   "metadata": {
    "colab": {
     "background_save": true
    },
    "id": "jFdACWh0-cQE"
   },
   "outputs": [
    {
     "name": "stdout",
     "output_type": "stream",
     "text": [
      "/content\n",
      "drive  gdrive  sample_data\n",
      "/content/drive/MyDrive/Colab Notebooks/physics-sharing/hep-anomaly-detection/jet-vae\n"
     ]
    }
   ],
   "source": [
    "!pwd\n",
    "!ls\n",
    "\n",
    "%cd /content/drive/MyDrive/Colab\\ Notebooks/physics-sharing/hep-anomaly-detection/jet-vae"
   ]
  },
  {
   "cell_type": "code",
   "execution_count": null,
   "metadata": {
    "id": "kcw9KKk6-5np"
   },
   "outputs": [],
   "source": [
    "!pwd\n",
    "!ls"
   ]
  },
  {
   "cell_type": "code",
   "execution_count": 1,
   "metadata": {
    "colab": {
     "base_uri": "https://localhost:8080/",
     "height": 381
    },
    "executionInfo": {
     "elapsed": 12,
     "status": "error",
     "timestamp": 1644233701290,
     "user": {
      "displayName": "Michael Soughton",
      "photoUrl": "https://lh3.googleusercontent.com/a/default-user=s64",
      "userId": "02737434027374845423"
     },
     "user_tz": 0
    },
    "id": "lQ3EQPFm9JW0",
    "outputId": "7aee685f-509b-49a9-c7d8-59fee8eda3c8"
   },
   "outputs": [
    {
     "ename": "FileNotFoundError",
     "evalue": "ignored",
     "output_type": "error",
     "traceback": [
      "\u001b[0;31m---------------------------------------------------------------------------\u001b[0m",
      "\u001b[0;31mFileNotFoundError\u001b[0m                         Traceback (most recent call last)",
      "\u001b[0;32m<ipython-input-1-38ca9c49b6a2>\u001b[0m in \u001b[0;36m<module>\u001b[0;34m()\u001b[0m\n\u001b[1;32m     16\u001b[0m \u001b[0;32mimport\u001b[0m \u001b[0mpandas\u001b[0m \u001b[0;32mas\u001b[0m \u001b[0mpd\u001b[0m\u001b[0;34m\u001b[0m\u001b[0;34m\u001b[0m\u001b[0m\n\u001b[1;32m     17\u001b[0m \u001b[0;32mimport\u001b[0m \u001b[0mnumpy\u001b[0m \u001b[0;32mas\u001b[0m \u001b[0mnp\u001b[0m\u001b[0;34m\u001b[0m\u001b[0;34m\u001b[0m\u001b[0m\n\u001b[0;32m---> 18\u001b[0;31m \u001b[0mdf\u001b[0m \u001b[0;34m=\u001b[0m \u001b[0mpd\u001b[0m\u001b[0;34m.\u001b[0m\u001b[0mread_csv\u001b[0m\u001b[0;34m(\u001b[0m\u001b[0;34m'tweets_definitivo_hasta_2016_version_super_arreglada_traducida.csv'\u001b[0m\u001b[0;34m)\u001b[0m\u001b[0;34m\u001b[0m\u001b[0;34m\u001b[0m\u001b[0m\n\u001b[0m\u001b[1;32m     19\u001b[0m \u001b[0mdf\u001b[0m\u001b[0;34m.\u001b[0m\u001b[0mhead\u001b[0m\u001b[0;34m(\u001b[0m\u001b[0;34m)\u001b[0m\u001b[0;34m\u001b[0m\u001b[0;34m\u001b[0m\u001b[0m\n",
      "\u001b[0;32m/usr/local/lib/python3.7/dist-packages/pandas/util/_decorators.py\u001b[0m in \u001b[0;36mwrapper\u001b[0;34m(*args, **kwargs)\u001b[0m\n\u001b[1;32m    309\u001b[0m                     \u001b[0mstacklevel\u001b[0m\u001b[0;34m=\u001b[0m\u001b[0mstacklevel\u001b[0m\u001b[0;34m,\u001b[0m\u001b[0;34m\u001b[0m\u001b[0;34m\u001b[0m\u001b[0m\n\u001b[1;32m    310\u001b[0m                 )\n\u001b[0;32m--> 311\u001b[0;31m             \u001b[0;32mreturn\u001b[0m \u001b[0mfunc\u001b[0m\u001b[0;34m(\u001b[0m\u001b[0;34m*\u001b[0m\u001b[0margs\u001b[0m\u001b[0;34m,\u001b[0m \u001b[0;34m**\u001b[0m\u001b[0mkwargs\u001b[0m\u001b[0;34m)\u001b[0m\u001b[0;34m\u001b[0m\u001b[0;34m\u001b[0m\u001b[0m\n\u001b[0m\u001b[1;32m    312\u001b[0m \u001b[0;34m\u001b[0m\u001b[0m\n\u001b[1;32m    313\u001b[0m         \u001b[0;32mreturn\u001b[0m \u001b[0mwrapper\u001b[0m\u001b[0;34m\u001b[0m\u001b[0;34m\u001b[0m\u001b[0m\n",
      "\u001b[0;32m/usr/local/lib/python3.7/dist-packages/pandas/io/parsers/readers.py\u001b[0m in \u001b[0;36mread_csv\u001b[0;34m(filepath_or_buffer, sep, delimiter, header, names, index_col, usecols, squeeze, prefix, mangle_dupe_cols, dtype, engine, converters, true_values, false_values, skipinitialspace, skiprows, skipfooter, nrows, na_values, keep_default_na, na_filter, verbose, skip_blank_lines, parse_dates, infer_datetime_format, keep_date_col, date_parser, dayfirst, cache_dates, iterator, chunksize, compression, thousands, decimal, lineterminator, quotechar, quoting, doublequote, escapechar, comment, encoding, encoding_errors, dialect, error_bad_lines, warn_bad_lines, on_bad_lines, delim_whitespace, low_memory, memory_map, float_precision, storage_options)\u001b[0m\n\u001b[1;32m    584\u001b[0m     \u001b[0mkwds\u001b[0m\u001b[0;34m.\u001b[0m\u001b[0mupdate\u001b[0m\u001b[0;34m(\u001b[0m\u001b[0mkwds_defaults\u001b[0m\u001b[0;34m)\u001b[0m\u001b[0;34m\u001b[0m\u001b[0;34m\u001b[0m\u001b[0m\n\u001b[1;32m    585\u001b[0m \u001b[0;34m\u001b[0m\u001b[0m\n\u001b[0;32m--> 586\u001b[0;31m     \u001b[0;32mreturn\u001b[0m \u001b[0m_read\u001b[0m\u001b[0;34m(\u001b[0m\u001b[0mfilepath_or_buffer\u001b[0m\u001b[0;34m,\u001b[0m \u001b[0mkwds\u001b[0m\u001b[0;34m)\u001b[0m\u001b[0;34m\u001b[0m\u001b[0;34m\u001b[0m\u001b[0m\n\u001b[0m\u001b[1;32m    587\u001b[0m \u001b[0;34m\u001b[0m\u001b[0m\n\u001b[1;32m    588\u001b[0m \u001b[0;34m\u001b[0m\u001b[0m\n",
      "\u001b[0;32m/usr/local/lib/python3.7/dist-packages/pandas/io/parsers/readers.py\u001b[0m in \u001b[0;36m_read\u001b[0;34m(filepath_or_buffer, kwds)\u001b[0m\n\u001b[1;32m    480\u001b[0m \u001b[0;34m\u001b[0m\u001b[0m\n\u001b[1;32m    481\u001b[0m     \u001b[0;31m# Create the parser.\u001b[0m\u001b[0;34m\u001b[0m\u001b[0;34m\u001b[0m\u001b[0;34m\u001b[0m\u001b[0m\n\u001b[0;32m--> 482\u001b[0;31m     \u001b[0mparser\u001b[0m \u001b[0;34m=\u001b[0m \u001b[0mTextFileReader\u001b[0m\u001b[0;34m(\u001b[0m\u001b[0mfilepath_or_buffer\u001b[0m\u001b[0;34m,\u001b[0m \u001b[0;34m**\u001b[0m\u001b[0mkwds\u001b[0m\u001b[0;34m)\u001b[0m\u001b[0;34m\u001b[0m\u001b[0;34m\u001b[0m\u001b[0m\n\u001b[0m\u001b[1;32m    483\u001b[0m \u001b[0;34m\u001b[0m\u001b[0m\n\u001b[1;32m    484\u001b[0m     \u001b[0;32mif\u001b[0m \u001b[0mchunksize\u001b[0m \u001b[0;32mor\u001b[0m \u001b[0miterator\u001b[0m\u001b[0;34m:\u001b[0m\u001b[0;34m\u001b[0m\u001b[0;34m\u001b[0m\u001b[0m\n",
      "\u001b[0;32m/usr/local/lib/python3.7/dist-packages/pandas/io/parsers/readers.py\u001b[0m in \u001b[0;36m__init__\u001b[0;34m(self, f, engine, **kwds)\u001b[0m\n\u001b[1;32m    809\u001b[0m             \u001b[0mself\u001b[0m\u001b[0;34m.\u001b[0m\u001b[0moptions\u001b[0m\u001b[0;34m[\u001b[0m\u001b[0;34m\"has_index_names\"\u001b[0m\u001b[0;34m]\u001b[0m \u001b[0;34m=\u001b[0m \u001b[0mkwds\u001b[0m\u001b[0;34m[\u001b[0m\u001b[0;34m\"has_index_names\"\u001b[0m\u001b[0;34m]\u001b[0m\u001b[0;34m\u001b[0m\u001b[0;34m\u001b[0m\u001b[0m\n\u001b[1;32m    810\u001b[0m \u001b[0;34m\u001b[0m\u001b[0m\n\u001b[0;32m--> 811\u001b[0;31m         \u001b[0mself\u001b[0m\u001b[0;34m.\u001b[0m\u001b[0m_engine\u001b[0m \u001b[0;34m=\u001b[0m \u001b[0mself\u001b[0m\u001b[0;34m.\u001b[0m\u001b[0m_make_engine\u001b[0m\u001b[0;34m(\u001b[0m\u001b[0mself\u001b[0m\u001b[0;34m.\u001b[0m\u001b[0mengine\u001b[0m\u001b[0;34m)\u001b[0m\u001b[0;34m\u001b[0m\u001b[0;34m\u001b[0m\u001b[0m\n\u001b[0m\u001b[1;32m    812\u001b[0m \u001b[0;34m\u001b[0m\u001b[0m\n\u001b[1;32m    813\u001b[0m     \u001b[0;32mdef\u001b[0m \u001b[0mclose\u001b[0m\u001b[0;34m(\u001b[0m\u001b[0mself\u001b[0m\u001b[0;34m)\u001b[0m\u001b[0;34m:\u001b[0m\u001b[0;34m\u001b[0m\u001b[0;34m\u001b[0m\u001b[0m\n",
      "\u001b[0;32m/usr/local/lib/python3.7/dist-packages/pandas/io/parsers/readers.py\u001b[0m in \u001b[0;36m_make_engine\u001b[0;34m(self, engine)\u001b[0m\n\u001b[1;32m   1038\u001b[0m             )\n\u001b[1;32m   1039\u001b[0m         \u001b[0;31m# error: Too many arguments for \"ParserBase\"\u001b[0m\u001b[0;34m\u001b[0m\u001b[0;34m\u001b[0m\u001b[0;34m\u001b[0m\u001b[0m\n\u001b[0;32m-> 1040\u001b[0;31m         \u001b[0;32mreturn\u001b[0m \u001b[0mmapping\u001b[0m\u001b[0;34m[\u001b[0m\u001b[0mengine\u001b[0m\u001b[0;34m]\u001b[0m\u001b[0;34m(\u001b[0m\u001b[0mself\u001b[0m\u001b[0;34m.\u001b[0m\u001b[0mf\u001b[0m\u001b[0;34m,\u001b[0m \u001b[0;34m**\u001b[0m\u001b[0mself\u001b[0m\u001b[0;34m.\u001b[0m\u001b[0moptions\u001b[0m\u001b[0;34m)\u001b[0m  \u001b[0;31m# type: ignore[call-arg]\u001b[0m\u001b[0;34m\u001b[0m\u001b[0;34m\u001b[0m\u001b[0m\n\u001b[0m\u001b[1;32m   1041\u001b[0m \u001b[0;34m\u001b[0m\u001b[0m\n\u001b[1;32m   1042\u001b[0m     \u001b[0;32mdef\u001b[0m \u001b[0m_failover_to_python\u001b[0m\u001b[0;34m(\u001b[0m\u001b[0mself\u001b[0m\u001b[0;34m)\u001b[0m\u001b[0;34m:\u001b[0m\u001b[0;34m\u001b[0m\u001b[0;34m\u001b[0m\u001b[0m\n",
      "\u001b[0;32m/usr/local/lib/python3.7/dist-packages/pandas/io/parsers/c_parser_wrapper.py\u001b[0m in \u001b[0;36m__init__\u001b[0;34m(self, src, **kwds)\u001b[0m\n\u001b[1;32m     49\u001b[0m \u001b[0;34m\u001b[0m\u001b[0m\n\u001b[1;32m     50\u001b[0m         \u001b[0;31m# open handles\u001b[0m\u001b[0;34m\u001b[0m\u001b[0;34m\u001b[0m\u001b[0;34m\u001b[0m\u001b[0m\n\u001b[0;32m---> 51\u001b[0;31m         \u001b[0mself\u001b[0m\u001b[0;34m.\u001b[0m\u001b[0m_open_handles\u001b[0m\u001b[0;34m(\u001b[0m\u001b[0msrc\u001b[0m\u001b[0;34m,\u001b[0m \u001b[0mkwds\u001b[0m\u001b[0;34m)\u001b[0m\u001b[0;34m\u001b[0m\u001b[0;34m\u001b[0m\u001b[0m\n\u001b[0m\u001b[1;32m     52\u001b[0m         \u001b[0;32massert\u001b[0m \u001b[0mself\u001b[0m\u001b[0;34m.\u001b[0m\u001b[0mhandles\u001b[0m \u001b[0;32mis\u001b[0m \u001b[0;32mnot\u001b[0m \u001b[0;32mNone\u001b[0m\u001b[0;34m\u001b[0m\u001b[0;34m\u001b[0m\u001b[0m\n\u001b[1;32m     53\u001b[0m \u001b[0;34m\u001b[0m\u001b[0m\n",
      "\u001b[0;32m/usr/local/lib/python3.7/dist-packages/pandas/io/parsers/base_parser.py\u001b[0m in \u001b[0;36m_open_handles\u001b[0;34m(self, src, kwds)\u001b[0m\n\u001b[1;32m    227\u001b[0m             \u001b[0mmemory_map\u001b[0m\u001b[0;34m=\u001b[0m\u001b[0mkwds\u001b[0m\u001b[0;34m.\u001b[0m\u001b[0mget\u001b[0m\u001b[0;34m(\u001b[0m\u001b[0;34m\"memory_map\"\u001b[0m\u001b[0;34m,\u001b[0m \u001b[0;32mFalse\u001b[0m\u001b[0;34m)\u001b[0m\u001b[0;34m,\u001b[0m\u001b[0;34m\u001b[0m\u001b[0;34m\u001b[0m\u001b[0m\n\u001b[1;32m    228\u001b[0m             \u001b[0mstorage_options\u001b[0m\u001b[0;34m=\u001b[0m\u001b[0mkwds\u001b[0m\u001b[0;34m.\u001b[0m\u001b[0mget\u001b[0m\u001b[0;34m(\u001b[0m\u001b[0;34m\"storage_options\"\u001b[0m\u001b[0;34m,\u001b[0m \u001b[0;32mNone\u001b[0m\u001b[0;34m)\u001b[0m\u001b[0;34m,\u001b[0m\u001b[0;34m\u001b[0m\u001b[0;34m\u001b[0m\u001b[0m\n\u001b[0;32m--> 229\u001b[0;31m             \u001b[0merrors\u001b[0m\u001b[0;34m=\u001b[0m\u001b[0mkwds\u001b[0m\u001b[0;34m.\u001b[0m\u001b[0mget\u001b[0m\u001b[0;34m(\u001b[0m\u001b[0;34m\"encoding_errors\"\u001b[0m\u001b[0;34m,\u001b[0m \u001b[0;34m\"strict\"\u001b[0m\u001b[0;34m)\u001b[0m\u001b[0;34m,\u001b[0m\u001b[0;34m\u001b[0m\u001b[0;34m\u001b[0m\u001b[0m\n\u001b[0m\u001b[1;32m    230\u001b[0m         )\n\u001b[1;32m    231\u001b[0m \u001b[0;34m\u001b[0m\u001b[0m\n",
      "\u001b[0;32m/usr/local/lib/python3.7/dist-packages/pandas/io/common.py\u001b[0m in \u001b[0;36mget_handle\u001b[0;34m(path_or_buf, mode, encoding, compression, memory_map, is_text, errors, storage_options)\u001b[0m\n\u001b[1;32m    705\u001b[0m                 \u001b[0mencoding\u001b[0m\u001b[0;34m=\u001b[0m\u001b[0mioargs\u001b[0m\u001b[0;34m.\u001b[0m\u001b[0mencoding\u001b[0m\u001b[0;34m,\u001b[0m\u001b[0;34m\u001b[0m\u001b[0;34m\u001b[0m\u001b[0m\n\u001b[1;32m    706\u001b[0m                 \u001b[0merrors\u001b[0m\u001b[0;34m=\u001b[0m\u001b[0merrors\u001b[0m\u001b[0;34m,\u001b[0m\u001b[0;34m\u001b[0m\u001b[0;34m\u001b[0m\u001b[0m\n\u001b[0;32m--> 707\u001b[0;31m                 \u001b[0mnewline\u001b[0m\u001b[0;34m=\u001b[0m\u001b[0;34m\"\"\u001b[0m\u001b[0;34m,\u001b[0m\u001b[0;34m\u001b[0m\u001b[0;34m\u001b[0m\u001b[0m\n\u001b[0m\u001b[1;32m    708\u001b[0m             )\n\u001b[1;32m    709\u001b[0m         \u001b[0;32melse\u001b[0m\u001b[0;34m:\u001b[0m\u001b[0;34m\u001b[0m\u001b[0;34m\u001b[0m\u001b[0m\n",
      "\u001b[0;31mFileNotFoundError\u001b[0m: [Errno 2] No such file or directory: 'tweets_definitivo_hasta_2016_version_super_arreglada_traducida.csv'"
     ]
    }
   ],
   "source": [
    "\"\"\"\n",
    "import pandas as pd\n",
    "import numpy as np\n",
    "df1 = pd.read_csv('data_set_arreglado_y_procesado_ciudadanos.csv')\n",
    "def zerolistmaker(n):\n",
    "    listofzeros = [0] * n\n",
    "    return listofzeros\n",
    "df1['tweet_limpios_ingles'] = zerolistmaker(len(df1['año']))\n",
    "\n",
    "df2 = pd.read_csv('data_set_arreglado_y_procesado_y_traducido.csv')\n",
    "df = pd.concat([df1,df2], axis=0, join='outer', ignore_index=True)\n",
    "df = df.sample(frac=1).reset_index(drop=True)\n",
    "df.head(5)\n",
    "print(len(df))\n",
    "\"\"\"\n",
    "import pandas as pd\n",
    "import numpy as np\n",
    "df = pd.read_csv('tweets_definitivo_hasta_2016_version_super_arreglada_traducida.csv')\n",
    "df.head()"
   ]
  },
  {
   "cell_type": "code",
   "execution_count": null,
   "metadata": {
    "id": "Yp7ZMuMl9JW4"
   },
   "outputs": [],
   "source": [
    "#Solo en la primera ejecucion!!\n",
    "\n",
    "#def zerolistmaker(n):\n",
    "#    listofzeros = [0] * n\n",
    "#    return listofzeros\n",
    "#df['tweet_limpios_ingles'] = zerolistmaker(len(df['año']))"
   ]
  },
  {
   "cell_type": "code",
   "execution_count": null,
   "metadata": {
    "id": "HJHj2wqn9JW4",
    "outputId": "88043d88-b0fd-4b3d-bdf8-2165cb3f66b5"
   },
   "outputs": [
    {
     "data": {
      "text/html": [
       "<div>\n",
       "<style scoped>\n",
       "    .dataframe tbody tr th:only-of-type {\n",
       "        vertical-align: middle;\n",
       "    }\n",
       "\n",
       "    .dataframe tbody tr th {\n",
       "        vertical-align: top;\n",
       "    }\n",
       "\n",
       "    .dataframe thead th {\n",
       "        text-align: right;\n",
       "    }\n",
       "</style>\n",
       "<table border=\"1\" class=\"dataframe\">\n",
       "  <thead>\n",
       "    <tr style=\"text-align: right;\">\n",
       "      <th></th>\n",
       "      <th>numero</th>\n",
       "      <th>tweet</th>\n",
       "      <th>nombre</th>\n",
       "      <th>posicion</th>\n",
       "      <th>cuenta</th>\n",
       "      <th>fecha</th>\n",
       "      <th>año</th>\n",
       "      <th>mes</th>\n",
       "      <th>tweet_limpios</th>\n",
       "      <th>tweet_limpios_ingles</th>\n",
       "    </tr>\n",
       "  </thead>\n",
       "  <tbody>\n",
       "    <tr>\n",
       "      <th>0</th>\n",
       "      <td>0</td>\n",
       "      <td>Acabo de sumarme a la #HoradelPlaneta con @WWF...</td>\n",
       "      <td>PSOE</td>\n",
       "      <td>GOV</td>\n",
       "      <td>@JoseantonioJun</td>\n",
       "      <td>2017-03-22</td>\n",
       "      <td>2017</td>\n",
       "      <td>3</td>\n",
       "      <td>Acabo sumarme HoradelPlaneta source webcorpora...</td>\n",
       "      <td>0</td>\n",
       "    </tr>\n",
       "    <tr>\n",
       "      <th>1</th>\n",
       "      <td>1</td>\n",
       "      <td>\"Nos hemos quedado huérfanos de una fiscalía q...</td>\n",
       "      <td>POD</td>\n",
       "      <td>GOV</td>\n",
       "      <td>@anamarcelloana</td>\n",
       "      <td>2016-03-04</td>\n",
       "      <td>2016</td>\n",
       "      <td>3</td>\n",
       "      <td>quedado huérfanos fiscalía defendido inter Inf...</td>\n",
       "      <td>0</td>\n",
       "    </tr>\n",
       "    <tr>\n",
       "      <th>2</th>\n",
       "      <td>2</td>\n",
       "      <td>Acto Electoral en las #TorresdeCotillas Jueve...</td>\n",
       "      <td>VOX</td>\n",
       "      <td>OPO</td>\n",
       "      <td>@Vox_Molina</td>\n",
       "      <td>2019-11-05</td>\n",
       "      <td>2019</td>\n",
       "      <td>11</td>\n",
       "      <td>Acto Electoral TorresdeCotillas Jueves Casa Cu...</td>\n",
       "      <td>0</td>\n",
       "    </tr>\n",
       "    <tr>\n",
       "      <th>3</th>\n",
       "      <td>3</td>\n",
       "      <td>Para llevarse tan mal se entienden muy bien. P...</td>\n",
       "      <td>PSOE</td>\n",
       "      <td>GOV</td>\n",
       "      <td>@sanchezcastejon</td>\n",
       "      <td>2018-03-26</td>\n",
       "      <td>2018</td>\n",
       "      <td>3</td>\n",
       "      <td>llevarse entienden bien vuelven demostrarnos c...</td>\n",
       "      <td>0</td>\n",
       "    </tr>\n",
       "    <tr>\n",
       "      <th>4</th>\n",
       "      <td>4</td>\n",
       "      <td>#ComienzaElCambio en Andalucía tras cuatro déc...</td>\n",
       "      <td>PP</td>\n",
       "      <td>OPO</td>\n",
       "      <td>@pablocasado_</td>\n",
       "      <td>2019-01-16</td>\n",
       "      <td>2019</td>\n",
       "      <td>1</td>\n",
       "      <td>ComienzaElCambio Andalucía tras cuatro décadas...</td>\n",
       "      <td>0</td>\n",
       "    </tr>\n",
       "  </tbody>\n",
       "</table>\n",
       "</div>"
      ],
      "text/plain": [
       "   numero                                              tweet nombre posicion  \\\n",
       "0       0  Acabo de sumarme a la #HoradelPlaneta con @WWF...   PSOE      GOV   \n",
       "1       1  \"Nos hemos quedado huérfanos de una fiscalía q...    POD      GOV   \n",
       "2       2   Acto Electoral en las #TorresdeCotillas Jueve...    VOX      OPO   \n",
       "3       3  Para llevarse tan mal se entienden muy bien. P...   PSOE      GOV   \n",
       "4       4  #ComienzaElCambio en Andalucía tras cuatro déc...     PP      OPO   \n",
       "\n",
       "             cuenta       fecha   año  mes  \\\n",
       "0   @JoseantonioJun  2017-03-22  2017    3   \n",
       "1   @anamarcelloana  2016-03-04  2016    3   \n",
       "2       @Vox_Molina  2019-11-05  2019   11   \n",
       "3  @sanchezcastejon  2018-03-26  2018    3   \n",
       "4     @pablocasado_  2019-01-16  2019    1   \n",
       "\n",
       "                                       tweet_limpios  tweet_limpios_ingles  \n",
       "0  Acabo sumarme HoradelPlaneta source webcorpora...                     0  \n",
       "1  quedado huérfanos fiscalía defendido inter Inf...                     0  \n",
       "2  Acto Electoral TorresdeCotillas Jueves Casa Cu...                     0  \n",
       "3  llevarse entienden bien vuelven demostrarnos c...                     0  \n",
       "4  ComienzaElCambio Andalucía tras cuatro décadas...                     0  "
      ]
     },
     "execution_count": 60,
     "metadata": {
      "tags": []
     },
     "output_type": "execute_result"
    }
   ],
   "source": [
    "df.head()"
   ]
  },
  {
   "cell_type": "code",
   "execution_count": null,
   "metadata": {
    "id": "Is-uwpSu9JW5",
    "outputId": "7fab4793-570c-467c-e2c4-c74b484ed65e"
   },
   "outputs": [
    {
     "name": "stdout",
     "output_type": "stream",
     "text": [
      "0\n"
     ]
    }
   ],
   "source": [
    "i=300\n",
    "print(i%100)"
   ]
  },
  {
   "cell_type": "code",
   "execution_count": null,
   "metadata": {
    "id": "svaf7ZeV9JW5",
    "outputId": "ba6711fe-480d-444f-cbbc-5d29c3ea796a"
   },
   "outputs": [
    {
     "name": "stdout",
     "output_type": "stream",
     "text": [
      "138202/138203\n"
     ]
    }
   ],
   "source": [
    "from googletrans import Translator\n",
    "translator = Translator()\n",
    "from IPython.display import clear_output\n",
    "import tqdm\n",
    "import time\n",
    "\n",
    "#marcador = 0\n",
    "for i in range(len(df[\"año\"])):\n",
    "    if i<marcador-3: continue\n",
    "    if df['tweet_limpios_ingles'][i] == 0:\n",
    "        #text = df['tweet_limpios'][i]\n",
    "        text = df['tweet_limpios'][i]\n",
    "        if text == text: #esto es para evitar los fallos de los NAN\n",
    "            df['tweet_limpios_ingles'][i] = translator.translate(text,src='es').text\n",
    "        #if text != text: df['tweet_limpios_ingles'][i] = df['tweet_limpios'][i] \n",
    "        if text != text: df['tweet_limpios_ingles'][i] = df['tweet_limpios'][i] \n",
    "        marcador = i    \n",
    "        if i%100 == 0: time.sleep(120) #importante! para saltarse las restricciones\n",
    "    clear_output(wait=True)\n",
    "    print(i, \"/\", len(df['año']), sep=\"\")   "
   ]
  },
  {
   "cell_type": "code",
   "execution_count": null,
   "metadata": {
    "id": "kgMAq6lD9JW6"
   },
   "outputs": [],
   "source": []
  },
  {
   "cell_type": "code",
   "execution_count": null,
   "metadata": {
    "id": "UhuOOJgo9JW7",
    "outputId": "cf0407e7-f7a5-44b2-b0a0-e7a9018eb81e"
   },
   "outputs": [
    {
     "data": {
      "text/html": [
       "<div>\n",
       "<style scoped>\n",
       "    .dataframe tbody tr th:only-of-type {\n",
       "        vertical-align: middle;\n",
       "    }\n",
       "\n",
       "    .dataframe tbody tr th {\n",
       "        vertical-align: top;\n",
       "    }\n",
       "\n",
       "    .dataframe thead th {\n",
       "        text-align: right;\n",
       "    }\n",
       "</style>\n",
       "<table border=\"1\" class=\"dataframe\">\n",
       "  <thead>\n",
       "    <tr style=\"text-align: right;\">\n",
       "      <th></th>\n",
       "      <th>numero</th>\n",
       "      <th>tweet</th>\n",
       "      <th>nombre</th>\n",
       "      <th>posicion</th>\n",
       "      <th>cuenta</th>\n",
       "      <th>fecha</th>\n",
       "      <th>año</th>\n",
       "      <th>mes</th>\n",
       "      <th>tweet_limpios</th>\n",
       "      <th>tweet_limpios_ingles</th>\n",
       "    </tr>\n",
       "  </thead>\n",
       "  <tbody>\n",
       "    <tr>\n",
       "      <th>0</th>\n",
       "      <td>0</td>\n",
       "      <td>Acabo de sumarme a la #HoradelPlaneta con @WWF...</td>\n",
       "      <td>PSOE</td>\n",
       "      <td>GOV</td>\n",
       "      <td>@JoseantonioJun</td>\n",
       "      <td>2017-03-22</td>\n",
       "      <td>2017</td>\n",
       "      <td>3</td>\n",
       "      <td>Acabo sumarme HoradelPlaneta source webcorpora...</td>\n",
       "      <td>Just join webcorporativa HoradelPlaneta campai...</td>\n",
       "    </tr>\n",
       "    <tr>\n",
       "      <th>1</th>\n",
       "      <td>1</td>\n",
       "      <td>\"Nos hemos quedado huérfanos de una fiscalía q...</td>\n",
       "      <td>POD</td>\n",
       "      <td>GOV</td>\n",
       "      <td>@anamarcelloana</td>\n",
       "      <td>2016-03-04</td>\n",
       "      <td>2016</td>\n",
       "      <td>3</td>\n",
       "      <td>quedado huérfanos fiscalía defendido inter Inf...</td>\n",
       "      <td>Prosecutors argued inter orphaned InfantaJuzgadaM</td>\n",
       "    </tr>\n",
       "    <tr>\n",
       "      <th>2</th>\n",
       "      <td>2</td>\n",
       "      <td>Acto Electoral en las #TorresdeCotillas Jueve...</td>\n",
       "      <td>VOX</td>\n",
       "      <td>OPO</td>\n",
       "      <td>@Vox_Molina</td>\n",
       "      <td>2019-11-05</td>\n",
       "      <td>2019</td>\n",
       "      <td>11</td>\n",
       "      <td>Acto Electoral TorresdeCotillas Jueves Casa Cu...</td>\n",
       "      <td>TorresdeCotillas Electoral Act Thursday Cultur...</td>\n",
       "    </tr>\n",
       "    <tr>\n",
       "      <th>3</th>\n",
       "      <td>3</td>\n",
       "      <td>Para llevarse tan mal se entienden muy bien. P...</td>\n",
       "      <td>PSOE</td>\n",
       "      <td>GOV</td>\n",
       "      <td>@sanchezcastejon</td>\n",
       "      <td>2018-03-26</td>\n",
       "      <td>2018</td>\n",
       "      <td>3</td>\n",
       "      <td>llevarse entienden bien vuelven demostrarnos c...</td>\n",
       "      <td>They are well understood same faces show us cu...</td>\n",
       "    </tr>\n",
       "    <tr>\n",
       "      <th>4</th>\n",
       "      <td>4</td>\n",
       "      <td>#ComienzaElCambio en Andalucía tras cuatro déc...</td>\n",
       "      <td>PP</td>\n",
       "      <td>OPO</td>\n",
       "      <td>@pablocasado_</td>\n",
       "      <td>2019-01-16</td>\n",
       "      <td>2019</td>\n",
       "      <td>1</td>\n",
       "      <td>ComienzaElCambio Andalucía tras cuatro décadas...</td>\n",
       "      <td>ComienzaElCambio Andalusia after four decades ...</td>\n",
       "    </tr>\n",
       "    <tr>\n",
       "      <th>5</th>\n",
       "      <td>5</td>\n",
       "      <td>En #PriegoDeCórdoba con @MLuisaCeballos Apelam...</td>\n",
       "      <td>PP</td>\n",
       "      <td>OPO</td>\n",
       "      <td>@ja_nietob</td>\n",
       "      <td>2018-11-27</td>\n",
       "      <td>2018</td>\n",
       "      <td>11</td>\n",
       "      <td>PriegoDeCórdoba Apelamos voto útil cambio nunc...</td>\n",
       "      <td>We appeal PriegoDeCórdoba helpful vote polls c...</td>\n",
       "    </tr>\n",
       "    <tr>\n",
       "      <th>6</th>\n",
       "      <td>6</td>\n",
       "      <td>El dedo de Pedro Sánchez muestra la determinac...</td>\n",
       "      <td>CIU</td>\n",
       "      <td>OPO</td>\n",
       "      <td>@Tonicanto1</td>\n",
       "      <td>2018-07-04</td>\n",
       "      <td>2018</td>\n",
       "      <td>7</td>\n",
       "      <td>dedo Pedro Sánchez muestra determinación gobie...</td>\n",
       "      <td>Pedro Sanchez finger plugging government shows...</td>\n",
       "    </tr>\n",
       "    <tr>\n",
       "      <th>7</th>\n",
       "      <td>7</td>\n",
       "      <td>Constituimos la Fundación Concordia y Libertad...</td>\n",
       "      <td>PP</td>\n",
       "      <td>OPO</td>\n",
       "      <td>@pablocasado_</td>\n",
       "      <td>2018-10-22</td>\n",
       "      <td>2018</td>\n",
       "      <td>10</td>\n",
       "      <td>Constituimos Fundación Concordia Libertad pres...</td>\n",
       "      <td>Concordia Freedom Foundation presides constitu...</td>\n",
       "    </tr>\n",
       "    <tr>\n",
       "      <th>8</th>\n",
       "      <td>8</td>\n",
       "      <td>Pedimos al Gobierno de España que elimine las ...</td>\n",
       "      <td>CIU</td>\n",
       "      <td>OPO</td>\n",
       "      <td>@ignacioaguado</td>\n",
       "      <td>2020-05-25</td>\n",
       "      <td>2020</td>\n",
       "      <td>5</td>\n",
       "      <td>Pedimos Gobierno España elimine franjas horari...</td>\n",
       "      <td>Government asked Spain remove SLOTS expand cap...</td>\n",
       "    </tr>\n",
       "    <tr>\n",
       "      <th>9</th>\n",
       "      <td>9</td>\n",
       "      <td>Os dejo una muestra de los diferentes trabajos...</td>\n",
       "      <td>PP</td>\n",
       "      <td>OPO</td>\n",
       "      <td>@javiermarquezsa</td>\n",
       "      <td>2017-10-08</td>\n",
       "      <td>2017</td>\n",
       "      <td>10</td>\n",
       "      <td>dejo muestra diferentes trabajos baldeo limpie...</td>\n",
       "      <td>cleaning left shows different pressure hot wat...</td>\n",
       "    </tr>\n",
       "  </tbody>\n",
       "</table>\n",
       "</div>"
      ],
      "text/plain": [
       "   numero                                              tweet nombre posicion  \\\n",
       "0       0  Acabo de sumarme a la #HoradelPlaneta con @WWF...   PSOE      GOV   \n",
       "1       1  \"Nos hemos quedado huérfanos de una fiscalía q...    POD      GOV   \n",
       "2       2   Acto Electoral en las #TorresdeCotillas Jueve...    VOX      OPO   \n",
       "3       3  Para llevarse tan mal se entienden muy bien. P...   PSOE      GOV   \n",
       "4       4  #ComienzaElCambio en Andalucía tras cuatro déc...     PP      OPO   \n",
       "5       5  En #PriegoDeCórdoba con @MLuisaCeballos Apelam...     PP      OPO   \n",
       "6       6  El dedo de Pedro Sánchez muestra la determinac...    CIU      OPO   \n",
       "7       7  Constituimos la Fundación Concordia y Libertad...     PP      OPO   \n",
       "8       8  Pedimos al Gobierno de España que elimine las ...    CIU      OPO   \n",
       "9       9  Os dejo una muestra de los diferentes trabajos...     PP      OPO   \n",
       "\n",
       "             cuenta       fecha   año  mes  \\\n",
       "0   @JoseantonioJun  2017-03-22  2017    3   \n",
       "1   @anamarcelloana  2016-03-04  2016    3   \n",
       "2       @Vox_Molina  2019-11-05  2019   11   \n",
       "3  @sanchezcastejon  2018-03-26  2018    3   \n",
       "4     @pablocasado_  2019-01-16  2019    1   \n",
       "5        @ja_nietob  2018-11-27  2018   11   \n",
       "6       @Tonicanto1  2018-07-04  2018    7   \n",
       "7     @pablocasado_  2018-10-22  2018   10   \n",
       "8    @ignacioaguado  2020-05-25  2020    5   \n",
       "9  @javiermarquezsa  2017-10-08  2017   10   \n",
       "\n",
       "                                       tweet_limpios  \\\n",
       "0  Acabo sumarme HoradelPlaneta source webcorpora...   \n",
       "1  quedado huérfanos fiscalía defendido inter Inf...   \n",
       "2  Acto Electoral TorresdeCotillas Jueves Casa Cu...   \n",
       "3  llevarse entienden bien vuelven demostrarnos c...   \n",
       "4  ComienzaElCambio Andalucía tras cuatro décadas...   \n",
       "5  PriegoDeCórdoba Apelamos voto útil cambio nunc...   \n",
       "6  dedo Pedro Sánchez muestra determinación gobie...   \n",
       "7  Constituimos Fundación Concordia Libertad pres...   \n",
       "8  Pedimos Gobierno España elimine franjas horari...   \n",
       "9  dejo muestra diferentes trabajos baldeo limpie...   \n",
       "\n",
       "                                tweet_limpios_ingles  \n",
       "0  Just join webcorporativa HoradelPlaneta campai...  \n",
       "1  Prosecutors argued inter orphaned InfantaJuzgadaM  \n",
       "2  TorresdeCotillas Electoral Act Thursday Cultur...  \n",
       "3  They are well understood same faces show us cu...  \n",
       "4  ComienzaElCambio Andalusia after four decades ...  \n",
       "5  We appeal PriegoDeCórdoba helpful vote polls c...  \n",
       "6  Pedro Sanchez finger plugging government shows...  \n",
       "7  Concordia Freedom Foundation presides constitu...  \n",
       "8  Government asked Spain remove SLOTS expand cap...  \n",
       "9  cleaning left shows different pressure hot wat...  "
      ]
     },
     "execution_count": 87,
     "metadata": {
      "tags": []
     },
     "output_type": "execute_result"
    }
   ],
   "source": [
    "df.head(10)"
   ]
  },
  {
   "cell_type": "code",
   "execution_count": null,
   "metadata": {
    "id": "5j8zt0E79JW7"
   },
   "outputs": [],
   "source": [
    "import csv\n",
    "with open('tweets_definitivo_hasta_2016_version_super_arreglada_traducida.csv', 'w', newline='') as file:\n",
    "    writer = csv.writer(file)\n",
    "    writer.writerow([\"numero\", \"tweet\", \"nombre\", \"posicion\", \"cuenta\", \"fecha\",\"año\",\"mes\",\"tweet_limpios\",\"tweet_limpios_ingles\"])\n",
    "    for i in range(len(df)):\n",
    "        writer.writerow([i, df['tweet'][i],df['nombre'][i],df['posicion'][i],df['cuenta'][i],df['fecha'][i],df['año'][i],df['mes'][i],df['tweet_limpios'][i],df['tweet_limpios_ingles'][i]])\n",
    "#df.to_csv('data_set_arreglado_y_procesado.csv')"
   ]
  },
  {
   "cell_type": "code",
   "execution_count": null,
   "metadata": {
    "id": "42cV2c_P9JW7",
    "outputId": "514f0875-ea6f-40db-f017-97bdef5cd951"
   },
   "outputs": [
    {
     "data": {
      "text/html": [
       "<div>\n",
       "<style scoped>\n",
       "    .dataframe tbody tr th:only-of-type {\n",
       "        vertical-align: middle;\n",
       "    }\n",
       "\n",
       "    .dataframe tbody tr th {\n",
       "        vertical-align: top;\n",
       "    }\n",
       "\n",
       "    .dataframe thead th {\n",
       "        text-align: right;\n",
       "    }\n",
       "</style>\n",
       "<table border=\"1\" class=\"dataframe\">\n",
       "  <thead>\n",
       "    <tr style=\"text-align: right;\">\n",
       "      <th></th>\n",
       "      <th>numero</th>\n",
       "      <th>tweet</th>\n",
       "      <th>nombre</th>\n",
       "      <th>posicion</th>\n",
       "      <th>cuenta</th>\n",
       "      <th>fecha</th>\n",
       "      <th>año</th>\n",
       "      <th>mes</th>\n",
       "      <th>tweet_limpios</th>\n",
       "      <th>tweet_limpios_ingles</th>\n",
       "    </tr>\n",
       "  </thead>\n",
       "  <tbody>\n",
       "    <tr>\n",
       "      <th>0</th>\n",
       "      <td>0</td>\n",
       "      <td>Acabo de sumarme a la #HoradelPlaneta con @WWF...</td>\n",
       "      <td>PSOE</td>\n",
       "      <td>GOV</td>\n",
       "      <td>@JoseantonioJun</td>\n",
       "      <td>2017-03-22</td>\n",
       "      <td>2017</td>\n",
       "      <td>3</td>\n",
       "      <td>Acabo sumarme HoradelPlaneta source webcorpora...</td>\n",
       "      <td>Just join webcorporativa HoradelPlaneta campai...</td>\n",
       "    </tr>\n",
       "    <tr>\n",
       "      <th>1</th>\n",
       "      <td>1</td>\n",
       "      <td>\"Nos hemos quedado huérfanos de una fiscalía q...</td>\n",
       "      <td>POD</td>\n",
       "      <td>GOV</td>\n",
       "      <td>@anamarcelloana</td>\n",
       "      <td>2016-03-04</td>\n",
       "      <td>2016</td>\n",
       "      <td>3</td>\n",
       "      <td>quedado huérfanos fiscalía defendido inter Inf...</td>\n",
       "      <td>Prosecutors argued inter orphaned InfantaJuzgadaM</td>\n",
       "    </tr>\n",
       "    <tr>\n",
       "      <th>2</th>\n",
       "      <td>2</td>\n",
       "      <td>Acto Electoral en las #TorresdeCotillas Jueve...</td>\n",
       "      <td>VOX</td>\n",
       "      <td>OPO</td>\n",
       "      <td>@Vox_Molina</td>\n",
       "      <td>2019-11-05</td>\n",
       "      <td>2019</td>\n",
       "      <td>11</td>\n",
       "      <td>Acto Electoral TorresdeCotillas Jueves Casa Cu...</td>\n",
       "      <td>TorresdeCotillas Electoral Act Thursday Cultur...</td>\n",
       "    </tr>\n",
       "    <tr>\n",
       "      <th>3</th>\n",
       "      <td>3</td>\n",
       "      <td>Para llevarse tan mal se entienden muy bien. P...</td>\n",
       "      <td>PSOE</td>\n",
       "      <td>GOV</td>\n",
       "      <td>@sanchezcastejon</td>\n",
       "      <td>2018-03-26</td>\n",
       "      <td>2018</td>\n",
       "      <td>3</td>\n",
       "      <td>llevarse entienden bien vuelven demostrarnos c...</td>\n",
       "      <td>They are well understood same faces show us cu...</td>\n",
       "    </tr>\n",
       "    <tr>\n",
       "      <th>4</th>\n",
       "      <td>4</td>\n",
       "      <td>#ComienzaElCambio en Andalucía tras cuatro déc...</td>\n",
       "      <td>PP</td>\n",
       "      <td>OPO</td>\n",
       "      <td>@pablocasado_</td>\n",
       "      <td>2019-01-16</td>\n",
       "      <td>2019</td>\n",
       "      <td>1</td>\n",
       "      <td>ComienzaElCambio Andalucía tras cuatro décadas...</td>\n",
       "      <td>ComienzaElCambio Andalusia after four decades ...</td>\n",
       "    </tr>\n",
       "  </tbody>\n",
       "</table>\n",
       "</div>"
      ],
      "text/plain": [
       "   numero                                              tweet nombre posicion  \\\n",
       "0       0  Acabo de sumarme a la #HoradelPlaneta con @WWF...   PSOE      GOV   \n",
       "1       1  \"Nos hemos quedado huérfanos de una fiscalía q...    POD      GOV   \n",
       "2       2   Acto Electoral en las #TorresdeCotillas Jueve...    VOX      OPO   \n",
       "3       3  Para llevarse tan mal se entienden muy bien. P...   PSOE      GOV   \n",
       "4       4  #ComienzaElCambio en Andalucía tras cuatro déc...     PP      OPO   \n",
       "\n",
       "             cuenta       fecha   año  mes  \\\n",
       "0   @JoseantonioJun  2017-03-22  2017    3   \n",
       "1   @anamarcelloana  2016-03-04  2016    3   \n",
       "2       @Vox_Molina  2019-11-05  2019   11   \n",
       "3  @sanchezcastejon  2018-03-26  2018    3   \n",
       "4     @pablocasado_  2019-01-16  2019    1   \n",
       "\n",
       "                                       tweet_limpios  \\\n",
       "0  Acabo sumarme HoradelPlaneta source webcorpora...   \n",
       "1  quedado huérfanos fiscalía defendido inter Inf...   \n",
       "2  Acto Electoral TorresdeCotillas Jueves Casa Cu...   \n",
       "3  llevarse entienden bien vuelven demostrarnos c...   \n",
       "4  ComienzaElCambio Andalucía tras cuatro décadas...   \n",
       "\n",
       "                                tweet_limpios_ingles  \n",
       "0  Just join webcorporativa HoradelPlaneta campai...  \n",
       "1  Prosecutors argued inter orphaned InfantaJuzgadaM  \n",
       "2  TorresdeCotillas Electoral Act Thursday Cultur...  \n",
       "3  They are well understood same faces show us cu...  \n",
       "4  ComienzaElCambio Andalusia after four decades ...  "
      ]
     },
     "execution_count": 104,
     "metadata": {
      "tags": []
     },
     "output_type": "execute_result"
    }
   ],
   "source": [
    "comprobacion = pd.read_csv('tweets_definitivo_hasta_2016_version_super_arreglada_traducida.csv')\n",
    "comprobacion.head()"
   ]
  },
  {
   "cell_type": "code",
   "execution_count": null,
   "metadata": {
    "id": "BCfMU5o59JW8"
   },
   "outputs": [],
   "source": []
  }
 ],
 "metadata": {
  "colab": {
   "collapsed_sections": [],
   "name": "Copy of translate_version_compartirda_nuevo_proyecto_NLP.ipynb",
   "provenance": [
    {
     "file_id": "1Ty3AC_FCXGvjkmdh9zTupf1IVij1nQPL",
     "timestamp": 1643980299065
    },
    {
     "file_id": "1aIqVWO99B0EGRzZSzjgkGJ_XjO1cHskg",
     "timestamp": 1643973801381
    }
   ],
   "version": ""
  },
  "kernelspec": {
   "display_name": "Python 3",
   "language": "python",
   "name": "python3"
  },
  "language_info": {
   "codemirror_mode": {
    "name": "ipython",
    "version": 3
   },
   "file_extension": ".py",
   "mimetype": "text/x-python",
   "name": "python",
   "nbconvert_exporter": "python",
   "pygments_lexer": "ipython3",
   "version": "3.8.8"
  }
 },
 "nbformat": 4,
 "nbformat_minor": 1
}
