{
 "cells": [
  {
   "cell_type": "markdown",
   "id": "232e9370",
   "metadata": {},
   "source": [
    "# Notebook to translate tweets into English\n",
    "\n",
    "This notebook translates Russian and Ukrainian tweets into english, adding a new column to the dataframe for the translated text"
   ]
  },
  {
   "cell_type": "markdown",
   "id": "c9b69ced",
   "metadata": {},
   "source": [
    "### Setup and load data"
   ]
  },
  {
   "cell_type": "code",
   "execution_count": null,
   "id": "136c988c",
   "metadata": {},
   "outputs": [],
   "source": [
    "import pandas as pd\n",
    "from tqdm import tqdm\n",
    "\n",
    "# Just pandas display options\n",
    "pd.set_option('display.max_rows', None)\n",
    "pd.set_option('display.max_columns', None)\n",
    "pd.set_option('display.width', None)\n",
    "pd.set_option('display.max_colwidth', -1)"
   ]
  },
  {
   "cell_type": "code",
   "execution_count": null,
   "id": "ca921ef3",
   "metadata": {},
   "outputs": [],
   "source": [
    "# These variables are only used for loading the desired file here\n",
    "keywords_ru = 'макдональдс россия'\n",
    "keywords_uk = 'макдональдс росія'\n",
    "num_tweets = 5000 # per day\n",
    "\n",
    "tweets_ru_df = pd.read_csv('data/tweets_raw_ru_df_' + keywords_ru + str(num_tweets) + 'dailytweets_' + start_date + '_to_' + end_date + '.csv')\n",
    "tweets_uk_df = pd.read_csv('data/tweets_raw_uk_df_' + keywords_uk + str(num_tweets) + 'dailytweets_' + start_date + '_to_' + end_date + '.csv')"
   ]
  },
  {
   "cell_type": "markdown",
   "id": "769024a0",
   "metadata": {},
   "source": [
    "### Translating tweets into English\n",
    "\n",
    "There are sentiment analysis tools for Russian and Ukrainian (e.g. https://github.com/bureaucratic-labs/dostoevsky, https://github.com/skupriienko/Ukrainian-Sentiment-Analysis). These may well be better than translating the tweets into English and using an English sentiment analysis tool since they would pick up on all the subtleties and nuances of the languages and also the translator often just mistranslates or translates poorly. Nevertheless for a first pass it will be simplest to translate all tweets into English and analyse them the same way. \n",
    "\n",
    "Using native sentiment analysis may also complicate comparisons because they are designed differently e.g. the Ukrainian sentiment scores are either -1 or +1 wheras the English scores can be -4, -3, -2, -1, 0, 1, 2, ,3 ,4.\n",
    "\n",
    "Who knows; if we do both ways we may discover sentiment based on the *language* itself rather than the pure word content (see https://github.com/text-machine-lab/rusentiment/blob/master/Guidelines/guidelines_%5BRU%5D.md)"
   ]
  },
  {
   "cell_type": "code",
   "execution_count": 5,
   "id": "3117b2e6",
   "metadata": {},
   "outputs": [
    {
     "name": "stderr",
     "output_type": "stream",
     "text": [
      "303it [12:25,  2.46s/it]\n",
      "303it [13:34,  2.69s/it]\n"
     ]
    }
   ],
   "source": [
    "from googletrans import Translator\n",
    "translator = Translator()\n",
    "from IPython.display import clear_output\n",
    "import time\n",
    "\n",
    "#translator.raise_Exception = True\n",
    "\n",
    "# Translate text into English. This adds a new column to the dataframe\n",
    "def translate_text(tweets_lang_df, lang):\n",
    "    for idx, tweet in tqdm(tweets_ru_df.iterrows()):\n",
    "        #print(idx)\n",
    "        text = tweet['Text']\n",
    "        text_translated = translator.translate(text, src = lang).text\n",
    "        tweets_lang_df.loc[idx, 'Text Translated'] = text_translated\n",
    "        \n",
    "        # Important to bypass google restrictions! \n",
    "        # This requires a bit of experimentation to get the best runtime without being stopped by google\n",
    "        #if idx >0 and idx%100 == 0: \n",
    "        #    time.sleep(120)\n",
    "        time.sleep(1.5)\n",
    "            \n",
    "    return tweets_lang_df\n",
    "        \n",
    "tweets_ru_df = translate_text(tweets_ru_df, 'ru')\n",
    "tweets_uk_df = translate_text(tweets_ru_df, 'uk')\n",
    "    "
   ]
  },
  {
   "cell_type": "markdown",
   "id": "faea89d3",
   "metadata": {},
   "source": [
    "### Save dataframes"
   ]
  },
  {
   "cell_type": "code",
   "execution_count": null,
   "id": "7c499beb",
   "metadata": {},
   "outputs": [],
   "source": [
    "tweets_ru_df.to_csv('data/tweets_trans_ru_df_' + keywords_ru + '_ru_df' + str(num_tweets) + 'dailytweets_' + start_date + '_to_' + end_date + '.csv')\n",
    "tweets_uk_df.to_csv('data/tweets_trans_uk_df_' + keywords_uk + '_uk_df' + str(num_tweets) + 'dailytweets_' + start_date + '_to_' + end_date + '.csv')"
   ]
  }
 ],
 "metadata": {
  "kernelspec": {
   "display_name": "twitter-covid-test",
   "language": "python",
   "name": "twitter-covid-test"
  },
  "language_info": {
   "codemirror_mode": {
    "name": "ipython",
    "version": 3
   },
   "file_extension": ".py",
   "mimetype": "text/x-python",
   "name": "python",
   "nbconvert_exporter": "python",
   "pygments_lexer": "ipython3",
   "version": "3.10.0"
  }
 },
 "nbformat": 4,
 "nbformat_minor": 5
}
