{
 "cells": [
  {
   "cell_type": "markdown",
   "id": "de0a1be4",
   "metadata": {},
   "source": [
    "# Notebook to download tweets containing specific keywords\n",
    "\n",
    "Note that this must be run locally using the dev version of snscrape as found in environment.yml (running via a local runtime on google colab will not work)\n",
    "\n",
    "To run jupyter notebook using a particular environment do in the terminal: \n",
    "\n",
    "<code>conda install -c anaconda ipykernel<code>\n",
    "<code>python -m ipykernel install --user --name=<env name><code>"
   ]
  },
  {
   "cell_type": "code",
   "execution_count": 1,
   "id": "b2523711",
   "metadata": {},
   "outputs": [],
   "source": [
    "import snscrape.modules.twitter as sntwitter\n",
    "import pandas as pd"
   ]
  },
  {
   "cell_type": "code",
   "execution_count": null,
   "id": "bdf2097e",
   "metadata": {},
   "outputs": [],
   "source": []
  }
 ],
 "metadata": {
  "kernelspec": {
   "display_name": "twitter-covid-test",
   "language": "python",
   "name": "twitter-covid-test"
  },
  "language_info": {
   "codemirror_mode": {
    "name": "ipython",
    "version": 3
   },
   "file_extension": ".py",
   "mimetype": "text/x-python",
   "name": "python",
   "nbconvert_exporter": "python",
   "pygments_lexer": "ipython3",
   "version": "3.10.0"
  }
 },
 "nbformat": 4,
 "nbformat_minor": 5
}
